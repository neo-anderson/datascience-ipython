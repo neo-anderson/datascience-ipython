{
 "cells": [
  {
   "cell_type": "code",
   "execution_count": 4,
   "metadata": {
    "collapsed": false
   },
   "outputs": [
    {
     "data": {
      "text/html": [
       "\n",
       "        <iframe\n",
       "            width=\"400\"\n",
       "            height=\"300\"\n",
       "            src=\"https://www.youtube.com/embed/w26x-z-BdWQ\"\n",
       "            frameborder=\"0\"\n",
       "            allowfullscreen\n",
       "        ></iframe>\n",
       "        "
      ],
      "text/plain": [
       "<IPython.lib.display.YouTubeVideo at 0x1064ab358>"
      ]
     },
     "execution_count": 4,
     "metadata": {},
     "output_type": "execute_result"
    }
   ],
   "source": [
    "%matplotlib inline\n",
    "from IPython.display import YouTubeVideo\n",
    "YouTubeVideo('w26x-z-BdWQ')"
   ]
  },
  {
   "cell_type": "code",
   "execution_count": 6,
   "metadata": {
    "collapsed": false
   },
   "outputs": [
    {
     "data": {
      "text/plain": [
       "'0.14.1'"
      ]
     },
     "execution_count": 6,
     "metadata": {},
     "output_type": "execute_result"
    }
   ],
   "source": [
    "import pandas\n",
    "pandas.__version__"
   ]
  },
  {
   "cell_type": "code",
   "execution_count": 10,
   "metadata": {
    "collapsed": false
   },
   "outputs": [
    {
     "data": {
      "text/plain": [
       "[<matplotlib.lines.Line2D at 0x10a3e1208>]"
      ]
     },
     "execution_count": 10,
     "metadata": {},
     "output_type": "execute_result"
    },
    {
     "data": {
      "image/png": "[encoded data removed]",
      "text/plain": [
       "<matplotlib.figure.Figure at 0x10a094d30>"
      ]
     },
     "metadata": {},
     "output_type": "display_data"
    }
   ],
   "source": [
    "import matplotlib.pyplot as plt\n",
    "plt.plot(range(10))"
   ]
  },
  {
   "cell_type": "markdown",
   "metadata": {},
   "source": [
    "Main pandas data models are Series (1D) and DataFrame (2D). Series is a subclass of numpy.ndarray.  \n",
    "Index labels do not have to be ordered and duplicates are allowed.  \n",
    "Indexes are for fast lookup and join. Hierarchical indexes.  \n",
    "Data alignment, dataframe manipulation.  \n",
    "In a dataframe, each column can be of different dtypes.  \n"
   ]
  },
  {
   "cell_type": "code",
   "execution_count": 3,
   "metadata": {
    "collapsed": false
   },
   "outputs": [
    {
     "name": "stdout",
     "output_type": "stream",
     "text": [
      "          0         1\n",
      "0  0.184519 -1.252510\n",
      "1 -1.092305 -0.696186\n",
      "2  0.139191 -0.433829\n",
      "          0         1\n",
      "0  0.599671 -1.103609\n",
      "1 -0.479809 -0.091513\n",
      "2 -0.391440 -0.611138\n"
     ]
    },
    {
     "data": {
      "text/html": [
       "<div style=\"max-height:1000px;max-width:1500px;overflow:auto;\">\n",
       "<table border=\"1\" class=\"dataframe\">\n",
       "  <thead>\n",
       "    <tr style=\"text-align: right;\">\n",
       "      <th></th>\n",
       "      <th>0</th>\n",
       "      <th>1</th>\n",
       "    </tr>\n",
       "  </thead>\n",
       "  <tbody>\n",
       "    <tr>\n",
       "      <th>0</th>\n",
       "      <td> 0.784191</td>\n",
       "      <td>-2.356119</td>\n",
       "    </tr>\n",
       "    <tr>\n",
       "      <th>1</th>\n",
       "      <td>-1.572114</td>\n",
       "      <td>-0.787699</td>\n",
       "    </tr>\n",
       "    <tr>\n",
       "      <th>2</th>\n",
       "      <td>-0.252249</td>\n",
       "      <td>-1.044967</td>\n",
       "    </tr>\n",
       "  </tbody>\n",
       "</table>\n",
       "</div>"
      ],
      "text/plain": [
       "          0         1\n",
       "0  0.784191 -2.356119\n",
       "1 -1.572114 -0.787699\n",
       "2 -0.252249 -1.044967"
      ]
     },
     "execution_count": 3,
     "metadata": {},
     "output_type": "execute_result"
    }
   ],
   "source": [
    "import pandas as pd\n",
    "from numpy.random import randn\n",
    "df1 = pd.DataFrame(randn(3,2))\n",
    "df2 = pd.DataFrame(randn(3,2))\n",
    "print(df1)\n",
    "print(df2)\n",
    "df1+df2"
   ]
  },
  {
   "cell_type": "markdown",
   "metadata": {},
   "source": [
    "Groupby - Split data into different groups, apply transformation to each group, combine into the output  \n",
    "\n",
    "GroupBy\n",
    "* DataFrame Columns\n",
    "* Arrays of Labels\n",
    "* Functions, applied to axis labels\n",
    "\n",
    "axis = 0 -> Rows\n",
    "axis = 1 -> Columns\n"
   ]
  },
  {
   "cell_type": "code",
   "execution_count": 13,
   "metadata": {
    "collapsed": false
   },
   "outputs": [],
   "source": [
    "%matplotlib inline\n",
    "import pandas as pd\n",
    "from pandas import *\n",
    "import numpy as np\n",
    "import matplotlib.pyplot as plt\n",
    "\n",
    "def side_by_side(*objs, **kwds):\n",
    "    from pandas.core.common import adjoin\n",
    "    space = kwds.get('space', 4)\n",
    "    reprs = [repr(obj).split(']n') for obj in objs]\n",
    "    print(adjoin(space, *reprs))\n",
    "\n",
    "plt.rc(\"figure\", figsize=(10,6))"
   ]
  },
  {
   "cell_type": "markdown",
   "metadata": {},
   "source": [
    "##Series"
   ]
  },
  {
   "cell_type": "code",
   "execution_count": 11,
   "metadata": {
    "collapsed": false
   },
   "outputs": [
    {
     "data": {
      "text/plain": [
       "array([-0.82943124,  0.09870218, -0.72216502, -0.53382978,  1.33082311])"
      ]
     },
     "execution_count": 11,
     "metadata": {},
     "output_type": "execute_result"
    }
   ],
   "source": [
    "randn(5)"
   ]
  },
  {
   "cell_type": "code",
   "execution_count": 15,
   "metadata": {
    "collapsed": false
   },
   "outputs": [
    {
     "data": {
      "text/plain": [
       "a   -0.219137\n",
       "b    0.747449\n",
       "c   -0.792511\n",
       "d   -0.661819\n",
       "e    1.233316\n",
       "dtype: float64"
      ]
     },
     "execution_count": 15,
     "metadata": {},
     "output_type": "execute_result"
    }
   ],
   "source": [
    "labels = ['a','b','c','d','e']\n",
    "s = Series(randn(5), index = labels)\n",
    "s"
   ]
  },
  {
   "cell_type": "code",
   "execution_count": 18,
   "metadata": {
    "collapsed": false
   },
   "outputs": [
    {
     "data": {
      "text/plain": [
       "True"
      ]
     },
     "execution_count": 18,
     "metadata": {},
     "output_type": "execute_result"
    }
   ],
   "source": [
    "'b' in s # Like a dictionary"
   ]
  },
  {
   "cell_type": "code",
   "execution_count": 19,
   "metadata": {
    "collapsed": false
   },
   "outputs": [
    {
     "data": {
      "text/plain": [
       "0.74744895279693502"
      ]
     },
     "execution_count": 19,
     "metadata": {},
     "output_type": "execute_result"
    }
   ],
   "source": [
    "s['b']"
   ]
  },
  {
   "cell_type": "code",
   "execution_count": 20,
   "metadata": {
    "collapsed": false
   },
   "outputs": [
    {
     "data": {
      "text/plain": [
       "Index(['a', 'b', 'c', 'd', 'e'], dtype='object')"
      ]
     },
     "execution_count": 20,
     "metadata": {},
     "output_type": "execute_result"
    }
   ],
   "source": [
    "s.index"
   ]
  },
  {
   "cell_type": "code",
   "execution_count": 21,
   "metadata": {
    "collapsed": false
   },
   "outputs": [
    {
     "data": {
      "text/plain": [
       "{'a': -0.21913692092289427,\n",
       " 'b': 0.74744895279693502,\n",
       " 'c': -0.7925114723888147,\n",
       " 'd': -0.66181946347617904,\n",
       " 'e': 1.2333161705689886}"
      ]
     },
     "execution_count": 21,
     "metadata": {},
     "output_type": "execute_result"
    }
   ],
   "source": [
    "#Convert into dict\n",
    "mapping = s.to_dict()\n",
    "mapping"
   ]
  },
  {
   "cell_type": "code",
   "execution_count": 24,
   "metadata": {
    "collapsed": false
   },
   "outputs": [
    {
     "data": {
      "text/plain": [
       "a   -0.219137\n",
       "b    0.747449\n",
       "c   -0.792511\n",
       "d   -0.661819\n",
       "e    1.233316\n",
       "dtype: float64"
      ]
     },
     "execution_count": 24,
     "metadata": {},
     "output_type": "execute_result"
    }
   ],
   "source": [
    "back_to_s = Series(mapping) #automatically sorts the keys and uses them as index\n",
    "back_to_s"
   ]
  },
  {
   "cell_type": "code",
   "execution_count": 26,
   "metadata": {
    "collapsed": false
   },
   "outputs": [
    {
     "data": {
      "text/plain": [
       "b    0.747449\n",
       "c   -0.792511\n",
       "a   -0.219137\n",
       "f         NaN\n",
       "dtype: float64"
      ]
     },
     "execution_count": 26,
     "metadata": {},
     "output_type": "execute_result"
    }
   ],
   "source": [
    "back_to_s2 = Series(mapping, index=['b','c','a','f']) #Only selects those indexes\n",
    "back_to_s2"
   ]
  },
  {
   "cell_type": "code",
   "execution_count": 30,
   "metadata": {
    "collapsed": false
   },
   "outputs": [
    {
     "data": {
      "text/plain": [
       "b    False\n",
       "c    False\n",
       "a    False\n",
       "f     True\n",
       "dtype: bool"
      ]
     },
     "execution_count": 30,
     "metadata": {},
     "output_type": "execute_result"
    }
   ],
   "source": [
    "isnull(back_to_s2)  # checking for NaN or null values"
   ]
  },
  {
   "cell_type": "code",
   "execution_count": 32,
   "metadata": {
    "collapsed": false
   },
   "outputs": [
    {
     "data": {
      "text/plain": [
       "b    False\n",
       "c    False\n",
       "a    False\n",
       "f     True\n",
       "dtype: bool"
      ]
     },
     "execution_count": 32,
     "metadata": {},
     "output_type": "execute_result"
    }
   ],
   "source": [
    "np.isnan(back_to_s2) # checking for NaN or null values - method 2"
   ]
  },
  {
   "cell_type": "code",
   "execution_count": 35,
   "metadata": {
    "collapsed": false
   },
   "outputs": [
    {
     "data": {
      "text/plain": [
       "b    0.747449\n",
       "c   -0.792511\n",
       "a   -0.219137\n",
       "dtype: float64"
      ]
     },
     "execution_count": 35,
     "metadata": {},
     "output_type": "execute_result"
    }
   ],
   "source": [
    "back_to_s2.dropna() # drop NaN values"
   ]
  },
  {
   "cell_type": "code",
   "execution_count": 38,
   "metadata": {
    "collapsed": false
   },
   "outputs": [
    {
     "data": {
      "text/plain": [
       "b    0.747449\n",
       "c   -0.792511\n",
       "a   -0.219137\n",
       "dtype: float64"
      ]
     },
     "execution_count": 38,
     "metadata": {},
     "output_type": "execute_result"
    }
   ],
   "source": [
    "back_to_s2[notnull(back_to_s2)] # drop NaN values - method 2"
   ]
  },
  {
   "cell_type": "code",
   "execution_count": 39,
   "metadata": {
    "collapsed": false
   },
   "outputs": [
    {
     "data": {
      "text/plain": [
       "a   -0.438274\n",
       "b    1.494898\n",
       "c   -1.585023\n",
       "d   -1.323639\n",
       "e    2.466632\n",
       "dtype: float64"
      ]
     },
     "execution_count": 39,
     "metadata": {},
     "output_type": "execute_result"
    }
   ],
   "source": [
    "s * 2 # Multiplies each value by 2"
   ]
  },
  {
   "cell_type": "code",
   "execution_count": 40,
   "metadata": {
    "collapsed": false
   },
   "outputs": [
    {
     "data": {
      "text/plain": [
       "a   -0.219137\n",
       "b    0.747449\n",
       "c   -0.792511\n",
       "dtype: float64"
      ]
     },
     "execution_count": 40,
     "metadata": {},
     "output_type": "execute_result"
    }
   ],
   "source": [
    "s[:3] # Slicing"
   ]
  },
  {
   "cell_type": "markdown",
   "metadata": {},
   "source": [
    "###DataFrame : 2D Collection of Series"
   ]
  },
  {
   "cell_type": "code",
   "execution_count": 41,
   "metadata": {
    "collapsed": false
   },
   "outputs": [
    {
     "data": {
      "text/html": [
       "<div style=\"max-height:1000px;max-width:1500px;overflow:auto;\">\n",
       "<table border=\"1\" class=\"dataframe\">\n",
       "  <thead>\n",
       "    <tr style=\"text-align: right;\">\n",
       "      <th></th>\n",
       "      <th>a</th>\n",
       "      <th>b</th>\n",
       "      <th>c</th>\n",
       "    </tr>\n",
       "  </thead>\n",
       "  <tbody>\n",
       "    <tr>\n",
       "      <th>0</th>\n",
       "      <td>-0.933016</td>\n",
       "      <td> foo</td>\n",
       "      <td>-0.753259</td>\n",
       "    </tr>\n",
       "    <tr>\n",
       "      <th>1</th>\n",
       "      <td> 0.287921</td>\n",
       "      <td> bar</td>\n",
       "      <td> 0.210949</td>\n",
       "    </tr>\n",
       "    <tr>\n",
       "      <th>2</th>\n",
       "      <td> 0.219803</td>\n",
       "      <td> foo</td>\n",
       "      <td> 0.006537</td>\n",
       "    </tr>\n",
       "    <tr>\n",
       "      <th>3</th>\n",
       "      <td>-0.690054</td>\n",
       "      <td> bar</td>\n",
       "      <td>-0.732027</td>\n",
       "    </tr>\n",
       "    <tr>\n",
       "      <th>4</th>\n",
       "      <td>-0.366379</td>\n",
       "      <td> foo</td>\n",
       "      <td>-0.180545</td>\n",
       "    </tr>\n",
       "    <tr>\n",
       "      <th>5</th>\n",
       "      <td> 0.118906</td>\n",
       "      <td> bar</td>\n",
       "      <td>-0.541733</td>\n",
       "    </tr>\n",
       "  </tbody>\n",
       "</table>\n",
       "</div>"
      ],
      "text/plain": [
       "          a    b         c\n",
       "0 -0.933016  foo -0.753259\n",
       "1  0.287921  bar  0.210949\n",
       "2  0.219803  foo  0.006537\n",
       "3 -0.690054  bar -0.732027\n",
       "4 -0.366379  foo -0.180545\n",
       "5  0.118906  bar -0.541733"
      ]
     },
     "execution_count": 41,
     "metadata": {},
     "output_type": "execute_result"
    }
   ],
   "source": [
    "df = DataFrame({'a':randn(6), 'b':['foo', 'bar'] * 3, 'c':randn(6)})\n",
    "df"
   ]
  },
  {
   "cell_type": "code",
   "execution_count": 51,
   "metadata": {
    "collapsed": false
   },
   "outputs": [
    {
     "name": "stdout",
     "output_type": "stream",
     "text": [
      "['foo', 'bar', 'foo', 'bar', 'foo', 'bar']\n"
     ]
    },
    {
     "data": {
      "text/plain": [
       "array(['foo', 'bar', 'foo', 'bar', 'foo', 'bar'], \n",
       "      dtype='<U3')"
      ]
     },
     "execution_count": 51,
     "metadata": {},
     "output_type": "execute_result"
    }
   ],
   "source": [
    "print(['foo','bar'] * 3)\n",
    "np.tile(['foo','bar'],3) # Numpy style"
   ]
  },
  {
   "cell_type": "code",
   "execution_count": 45,
   "metadata": {
    "collapsed": false
   },
   "outputs": [
    {
     "data": {
      "text/html": [
       "<div style=\"max-height:1000px;max-width:1500px;overflow:auto;\">\n",
       "<table border=\"1\" class=\"dataframe\">\n",
       "  <thead>\n",
       "    <tr style=\"text-align: right;\">\n",
       "      <th></th>\n",
       "      <th>a</th>\n",
       "      <th>b</th>\n",
       "      <th>c</th>\n",
       "    </tr>\n",
       "  </thead>\n",
       "  <tbody>\n",
       "    <tr>\n",
       "      <th>0</th>\n",
       "      <td> 1.506305</td>\n",
       "      <td> 1.732779</td>\n",
       "      <td>-1.257934</td>\n",
       "    </tr>\n",
       "    <tr>\n",
       "      <th>1</th>\n",
       "      <td> 0.222416</td>\n",
       "      <td> 0.099890</td>\n",
       "      <td>-1.724095</td>\n",
       "    </tr>\n",
       "    <tr>\n",
       "      <th>2</th>\n",
       "      <td> 1.652925</td>\n",
       "      <td>-0.776093</td>\n",
       "      <td>-1.623887</td>\n",
       "    </tr>\n",
       "  </tbody>\n",
       "</table>\n",
       "</div>"
      ],
      "text/plain": [
       "          a         b         c\n",
       "0  1.506305  1.732779 -1.257934\n",
       "1  0.222416  0.099890 -1.724095\n",
       "2  1.652925 -0.776093 -1.623887"
      ]
     },
     "execution_count": 45,
     "metadata": {},
     "output_type": "execute_result"
    }
   ],
   "source": [
    "#Method 2\n",
    "df2 = DataFrame([randn(3), randn(3), randn(3)], columns=[\"a\",\"b\",\"c\"])\n",
    "df2"
   ]
  },
  {
   "cell_type": "code",
   "execution_count": 46,
   "metadata": {
    "collapsed": false
   },
   "outputs": [
    {
     "data": {
      "text/plain": [
       "0   -0.933016\n",
       "1    0.287921\n",
       "2    0.219803\n",
       "3   -0.690054\n",
       "4   -0.366379\n",
       "5    0.118906\n",
       "Name: a, dtype: float64"
      ]
     },
     "execution_count": 46,
     "metadata": {},
     "output_type": "execute_result"
    }
   ],
   "source": [
    "df['a']"
   ]
  },
  {
   "cell_type": "code",
   "execution_count": 47,
   "metadata": {
    "collapsed": false
   },
   "outputs": [
    {
     "data": {
      "text/plain": [
       "Int64Index([0, 1, 2, 3, 4, 5], dtype='int64')"
      ]
     },
     "execution_count": 47,
     "metadata": {},
     "output_type": "execute_result"
    }
   ],
   "source": [
    "df.index"
   ]
  },
  {
   "cell_type": "code",
   "execution_count": 49,
   "metadata": {
    "collapsed": false
   },
   "outputs": [
    {
     "data": {
      "text/html": [
       "<div style=\"max-height:1000px;max-width:1500px;overflow:auto;\">\n",
       "<table border=\"1\" class=\"dataframe\">\n",
       "  <thead>\n",
       "    <tr style=\"text-align: right;\">\n",
       "      <th></th>\n",
       "      <th>a</th>\n",
       "      <th>b</th>\n",
       "      <th>c</th>\n",
       "      <th>d</th>\n",
       "    </tr>\n",
       "  </thead>\n",
       "  <tbody>\n",
       "    <tr>\n",
       "      <th>0</th>\n",
       "      <td>-0.933016</td>\n",
       "      <td> foo</td>\n",
       "      <td>-0.753259</td>\n",
       "      <td> a</td>\n",
       "    </tr>\n",
       "    <tr>\n",
       "      <th>1</th>\n",
       "      <td> 0.287921</td>\n",
       "      <td> bar</td>\n",
       "      <td> 0.210949</td>\n",
       "      <td> b</td>\n",
       "    </tr>\n",
       "    <tr>\n",
       "      <th>2</th>\n",
       "      <td> 0.219803</td>\n",
       "      <td> foo</td>\n",
       "      <td> 0.006537</td>\n",
       "      <td> c</td>\n",
       "    </tr>\n",
       "    <tr>\n",
       "      <th>3</th>\n",
       "      <td>-0.690054</td>\n",
       "      <td> bar</td>\n",
       "      <td>-0.732027</td>\n",
       "      <td> a</td>\n",
       "    </tr>\n",
       "    <tr>\n",
       "      <th>4</th>\n",
       "      <td>-0.366379</td>\n",
       "      <td> foo</td>\n",
       "      <td>-0.180545</td>\n",
       "      <td> b</td>\n",
       "    </tr>\n",
       "    <tr>\n",
       "      <th>5</th>\n",
       "      <td> 0.118906</td>\n",
       "      <td> bar</td>\n",
       "      <td>-0.541733</td>\n",
       "      <td> c</td>\n",
       "    </tr>\n",
       "  </tbody>\n",
       "</table>\n",
       "</div>"
      ],
      "text/plain": [
       "          a    b         c  d\n",
       "0 -0.933016  foo -0.753259  a\n",
       "1  0.287921  bar  0.210949  b\n",
       "2  0.219803  foo  0.006537  c\n",
       "3 -0.690054  bar -0.732027  a\n",
       "4 -0.366379  foo -0.180545  b\n",
       "5  0.118906  bar -0.541733  c"
      ]
     },
     "execution_count": 49,
     "metadata": {},
     "output_type": "execute_result"
    }
   ],
   "source": [
    "df['d'] = ['a','b','c'] * 2\n",
    "df"
   ]
  },
  {
   "cell_type": "code",
   "execution_count": 52,
   "metadata": {
    "collapsed": false
   },
   "outputs": [
    {
     "data": {
      "text/html": [
       "<div style=\"max-height:1000px;max-width:1500px;overflow:auto;\">\n",
       "<table border=\"1\" class=\"dataframe\">\n",
       "  <thead>\n",
       "    <tr style=\"text-align: right;\">\n",
       "      <th></th>\n",
       "      <th>a</th>\n",
       "      <th>b</th>\n",
       "      <th>c</th>\n",
       "      <th>d</th>\n",
       "    </tr>\n",
       "  </thead>\n",
       "  <tbody>\n",
       "    <tr>\n",
       "      <th>0</th>\n",
       "      <td>-0.933016</td>\n",
       "      <td> foo</td>\n",
       "      <td>-0.753259</td>\n",
       "      <td> a</td>\n",
       "    </tr>\n",
       "    <tr>\n",
       "      <th>1</th>\n",
       "      <td> 0.287921</td>\n",
       "      <td> bar</td>\n",
       "      <td> 0.210949</td>\n",
       "      <td> b</td>\n",
       "    </tr>\n",
       "    <tr>\n",
       "      <th>2</th>\n",
       "      <td> 0.219803</td>\n",
       "      <td> foo</td>\n",
       "      <td> 0.006537</td>\n",
       "      <td> c</td>\n",
       "    </tr>\n",
       "  </tbody>\n",
       "</table>\n",
       "</div>"
      ],
      "text/plain": [
       "          a    b         c  d\n",
       "0 -0.933016  foo -0.753259  a\n",
       "1  0.287921  bar  0.210949  b\n",
       "2  0.219803  foo  0.006537  c"
      ]
     },
     "execution_count": 52,
     "metadata": {},
     "output_type": "execute_result"
    }
   ],
   "source": [
    "df[:3]"
   ]
  },
  {
   "cell_type": "code",
   "execution_count": 53,
   "metadata": {
    "collapsed": false
   },
   "outputs": [
    {
     "data": {
      "text/html": [
       "<div style=\"max-height:1000px;max-width:1500px;overflow:auto;\">\n",
       "<table border=\"1\" class=\"dataframe\">\n",
       "  <thead>\n",
       "    <tr style=\"text-align: right;\">\n",
       "      <th></th>\n",
       "      <th>a</th>\n",
       "      <th>b</th>\n",
       "      <th>c</th>\n",
       "      <th>d</th>\n",
       "    </tr>\n",
       "  </thead>\n",
       "  <tbody>\n",
       "    <tr>\n",
       "      <th>0</th>\n",
       "      <td>-0.933016</td>\n",
       "      <td> foo</td>\n",
       "      <td>-0.753259</td>\n",
       "      <td> a</td>\n",
       "    </tr>\n",
       "    <tr>\n",
       "      <th>1</th>\n",
       "      <td> 0.287921</td>\n",
       "      <td> bar</td>\n",
       "      <td> 0.210949</td>\n",
       "      <td> b</td>\n",
       "    </tr>\n",
       "    <tr>\n",
       "      <th>2</th>\n",
       "      <td> 0.219803</td>\n",
       "      <td> foo</td>\n",
       "      <td> 0.006537</td>\n",
       "      <td> c</td>\n",
       "    </tr>\n",
       "    <tr>\n",
       "      <th>3</th>\n",
       "      <td>-0.690054</td>\n",
       "      <td> bar</td>\n",
       "      <td>-0.732027</td>\n",
       "      <td> a</td>\n",
       "    </tr>\n",
       "  </tbody>\n",
       "</table>\n",
       "</div>"
      ],
      "text/plain": [
       "          a    b         c  d\n",
       "0 -0.933016  foo -0.753259  a\n",
       "1  0.287921  bar  0.210949  b\n",
       "2  0.219803  foo  0.006537  c\n",
       "3 -0.690054  bar -0.732027  a"
      ]
     },
     "execution_count": 53,
     "metadata": {},
     "output_type": "execute_result"
    }
   ],
   "source": [
    "df[:-2]"
   ]
  },
  {
   "cell_type": "code",
   "execution_count": 54,
   "metadata": {
    "collapsed": false
   },
   "outputs": [
    {
     "data": {
      "text/html": [
       "<div style=\"max-height:1000px;max-width:1500px;overflow:auto;\">\n",
       "<table border=\"1\" class=\"dataframe\">\n",
       "  <thead>\n",
       "    <tr style=\"text-align: right;\">\n",
       "      <th></th>\n",
       "      <th>a</th>\n",
       "      <th>b</th>\n",
       "      <th>c</th>\n",
       "      <th>d</th>\n",
       "    </tr>\n",
       "  </thead>\n",
       "  <tbody>\n",
       "    <tr>\n",
       "      <th>4</th>\n",
       "      <td>-0.366379</td>\n",
       "      <td> foo</td>\n",
       "      <td>-0.180545</td>\n",
       "      <td> b</td>\n",
       "    </tr>\n",
       "    <tr>\n",
       "      <th>5</th>\n",
       "      <td> 0.118906</td>\n",
       "      <td> bar</td>\n",
       "      <td>-0.541733</td>\n",
       "      <td> c</td>\n",
       "    </tr>\n",
       "  </tbody>\n",
       "</table>\n",
       "</div>"
      ],
      "text/plain": [
       "          a    b         c  d\n",
       "4 -0.366379  foo -0.180545  b\n",
       "5  0.118906  bar -0.541733  c"
      ]
     },
     "execution_count": 54,
     "metadata": {},
     "output_type": "execute_result"
    }
   ],
   "source": [
    "df[-2:]"
   ]
  },
  {
   "cell_type": "code",
   "execution_count": 55,
   "metadata": {
    "collapsed": false
   },
   "outputs": [
    {
     "data": {
      "text/plain": [
       "a   -0.9330162\n",
       "b          foo\n",
       "c   -0.7532589\n",
       "d            a\n",
       "Name: 0, dtype: object"
      ]
     },
     "execution_count": 55,
     "metadata": {},
     "output_type": "execute_result"
    }
   ],
   "source": [
    "df.xs(0) # row 0"
   ]
  },
  {
   "cell_type": "code",
   "execution_count": 56,
   "metadata": {
    "collapsed": false
   },
   "outputs": [
    {
     "data": {
      "text/plain": [
       "Index(['a', 'b', 'c', 'd'], dtype='object')"
      ]
     },
     "execution_count": 56,
     "metadata": {},
     "output_type": "execute_result"
    }
   ],
   "source": [
    "df.xs(0).index"
   ]
  },
  {
   "cell_type": "code",
   "execution_count": 58,
   "metadata": {
    "collapsed": false
   },
   "outputs": [
    {
     "data": {
      "text/plain": [
       "a   -0.9330162\n",
       "b          foo\n",
       "c   -0.7532589\n",
       "d            a\n",
       "Name: 0, dtype: object"
      ]
     },
     "execution_count": 58,
     "metadata": {},
     "output_type": "execute_result"
    }
   ],
   "source": [
    "df.ix[0]"
   ]
  },
  {
   "cell_type": "code",
   "execution_count": 65,
   "metadata": {
    "collapsed": false
   },
   "outputs": [
    {
     "data": {
      "text/plain": [
       "-0.75325893669805166"
      ]
     },
     "execution_count": 65,
     "metadata": {},
     "output_type": "execute_result"
    }
   ],
   "source": [
    "df.ix[0,'c']"
   ]
  },
  {
   "cell_type": "code",
   "execution_count": 66,
   "metadata": {
    "collapsed": false
   },
   "outputs": [
    {
     "name": "stdout",
     "output_type": "stream",
     "text": [
      "10000 loops, best of 3: 177 µs per loop\n"
     ]
    }
   ],
   "source": [
    "%timeit df.ix[0,2]   # Number index works, but slower than column name"
   ]
  },
  {
   "cell_type": "code",
   "execution_count": 67,
   "metadata": {
    "collapsed": false
   },
   "outputs": [
    {
     "name": "stdout",
     "output_type": "stream",
     "text": [
      "The slowest run took 8.93 times longer than the fastest. This could mean that an intermediate result is being cached \n",
      "100000 loops, best of 3: 4.32 µs per loop\n"
     ]
    }
   ],
   "source": [
    "%timeit df.ix[0,'b']"
   ]
  },
  {
   "cell_type": "code",
   "execution_count": 68,
   "metadata": {
    "collapsed": false
   },
   "outputs": [
    {
     "name": "stdout",
     "output_type": "stream",
     "text": [
      "The slowest run took 13.03 times longer than the fastest. This could mean that an intermediate result is being cached \n",
      "100000 loops, best of 3: 2.74 µs per loop\n"
     ]
    }
   ],
   "source": [
    "%timeit df.get_value(0,'b')   # Slightly faster"
   ]
  },
  {
   "cell_type": "code",
   "execution_count": 70,
   "metadata": {
    "collapsed": false
   },
   "outputs": [
    {
     "data": {
      "text/plain": [
       "2    foo\n",
       "3    bar\n",
       "4    foo\n",
       "Name: b, dtype: object"
      ]
     },
     "execution_count": 70,
     "metadata": {},
     "output_type": "execute_result"
    }
   ],
   "source": [
    "df.ix[2:4,'b']\n",
    "# df.get_value(2:4,'b') wont work"
   ]
  },
  {
   "cell_type": "code",
   "execution_count": 73,
   "metadata": {
    "collapsed": false
   },
   "outputs": [
    {
     "data": {
      "text/html": [
       "<div style=\"max-height:1000px;max-width:1500px;overflow:auto;\">\n",
       "<table border=\"1\" class=\"dataframe\">\n",
       "  <thead>\n",
       "    <tr style=\"text-align: right;\">\n",
       "      <th></th>\n",
       "      <th>b</th>\n",
       "      <th>c</th>\n",
       "      <th>d</th>\n",
       "    </tr>\n",
       "  </thead>\n",
       "  <tbody>\n",
       "    <tr>\n",
       "      <th>2</th>\n",
       "      <td> foo</td>\n",
       "      <td> 0.006537</td>\n",
       "      <td> c</td>\n",
       "    </tr>\n",
       "    <tr>\n",
       "      <th>3</th>\n",
       "      <td> bar</td>\n",
       "      <td>-0.732027</td>\n",
       "      <td> a</td>\n",
       "    </tr>\n",
       "    <tr>\n",
       "      <th>4</th>\n",
       "      <td> foo</td>\n",
       "      <td>-0.180545</td>\n",
       "      <td> b</td>\n",
       "    </tr>\n",
       "  </tbody>\n",
       "</table>\n",
       "</div>"
      ],
      "text/plain": [
       "     b         c  d\n",
       "2  foo  0.006537  c\n",
       "3  bar -0.732027  a\n",
       "4  foo -0.180545  b"
      ]
     },
     "execution_count": 73,
     "metadata": {},
     "output_type": "execute_result"
    }
   ],
   "source": [
    "df.ix[2:4,'b':'e']  # Excluding 4 and e"
   ]
  },
  {
   "cell_type": "code",
   "execution_count": 75,
   "metadata": {
    "collapsed": false
   },
   "outputs": [
    {
     "data": {
      "text/html": [
       "<div style=\"max-height:1000px;max-width:1500px;overflow:auto;\">\n",
       "<table border=\"1\" class=\"dataframe\">\n",
       "  <thead>\n",
       "    <tr style=\"text-align: right;\">\n",
       "      <th></th>\n",
       "      <th>a</th>\n",
       "      <th>b</th>\n",
       "      <th>c</th>\n",
       "      <th>d</th>\n",
       "    </tr>\n",
       "  </thead>\n",
       "  <tbody>\n",
       "    <tr>\n",
       "      <th>0</th>\n",
       "      <td>-0.933016</td>\n",
       "      <td> foo</td>\n",
       "      <td>-0.753259</td>\n",
       "      <td> a</td>\n",
       "    </tr>\n",
       "    <tr>\n",
       "      <th>2</th>\n",
       "      <td> 0.219803</td>\n",
       "      <td> foo</td>\n",
       "      <td> 0.006537</td>\n",
       "      <td> c</td>\n",
       "    </tr>\n",
       "    <tr>\n",
       "      <th>4</th>\n",
       "      <td>-0.366379</td>\n",
       "      <td> foo</td>\n",
       "      <td>-0.180545</td>\n",
       "      <td> b</td>\n",
       "    </tr>\n",
       "  </tbody>\n",
       "</table>\n",
       "</div>"
      ],
      "text/plain": [
       "          a    b         c  d\n",
       "0 -0.933016  foo -0.753259  a\n",
       "2  0.219803  foo  0.006537  c\n",
       "4 -0.366379  foo -0.180545  b"
      ]
     },
     "execution_count": 75,
     "metadata": {},
     "output_type": "execute_result"
    }
   ],
   "source": [
    "df.ix[[0,2,4]]"
   ]
  },
  {
   "cell_type": "code",
   "execution_count": 76,
   "metadata": {
    "collapsed": false
   },
   "outputs": [
    {
     "name": "stdout",
     "output_type": "stream",
     "text": [
      "1000 loops, best of 3: 215 µs per loop\n"
     ]
    }
   ],
   "source": [
    "%timeit df.ix[[0,2,4]]"
   ]
  },
  {
   "cell_type": "code",
   "execution_count": 79,
   "metadata": {
    "collapsed": false
   },
   "outputs": [
    {
     "name": "stdout",
     "output_type": "stream",
     "text": [
      "1000 loops, best of 3: 203 µs per loop\n"
     ]
    }
   ],
   "source": [
    "%timeit df.loc[[0,2,4]]   # Slightly faster. "
   ]
  },
  {
   "cell_type": "code",
   "execution_count": 81,
   "metadata": {
    "collapsed": false
   },
   "outputs": [
    {
     "data": {
      "text/html": [
       "<div style=\"max-height:1000px;max-width:1500px;overflow:auto;\">\n",
       "<table border=\"1\" class=\"dataframe\">\n",
       "  <thead>\n",
       "    <tr style=\"text-align: right;\">\n",
       "      <th></th>\n",
       "      <th>b</th>\n",
       "      <th>d</th>\n",
       "    </tr>\n",
       "  </thead>\n",
       "  <tbody>\n",
       "    <tr>\n",
       "      <th>1</th>\n",
       "      <td> bar</td>\n",
       "      <td> b</td>\n",
       "    </tr>\n",
       "    <tr>\n",
       "      <th>2</th>\n",
       "      <td> foo</td>\n",
       "      <td> c</td>\n",
       "    </tr>\n",
       "  </tbody>\n",
       "</table>\n",
       "</div>"
      ],
      "text/plain": [
       "     b  d\n",
       "1  bar  b\n",
       "2  foo  c"
      ]
     },
     "execution_count": 81,
     "metadata": {},
     "output_type": "execute_result"
    }
   ],
   "source": [
    "df.ix[[1,2],['b','d']]"
   ]
  },
  {
   "cell_type": "code",
   "execution_count": 82,
   "metadata": {
    "collapsed": false
   },
   "outputs": [
    {
     "data": {
      "text/plain": [
       "0    False\n",
       "1     True\n",
       "2     True\n",
       "3    False\n",
       "4    False\n",
       "5    False\n",
       "Name: c, dtype: bool"
      ]
     },
     "execution_count": 82,
     "metadata": {},
     "output_type": "execute_result"
    }
   ],
   "source": [
    "df['c']>0"
   ]
  },
  {
   "cell_type": "code",
   "execution_count": 83,
   "metadata": {
    "collapsed": false
   },
   "outputs": [
    {
     "data": {
      "text/html": [
       "<div style=\"max-height:1000px;max-width:1500px;overflow:auto;\">\n",
       "<table border=\"1\" class=\"dataframe\">\n",
       "  <thead>\n",
       "    <tr style=\"text-align: right;\">\n",
       "      <th></th>\n",
       "      <th>a</th>\n",
       "      <th>b</th>\n",
       "      <th>c</th>\n",
       "      <th>d</th>\n",
       "    </tr>\n",
       "  </thead>\n",
       "  <tbody>\n",
       "    <tr>\n",
       "      <th>1</th>\n",
       "      <td> 0.287921</td>\n",
       "      <td> bar</td>\n",
       "      <td> 0.210949</td>\n",
       "      <td> b</td>\n",
       "    </tr>\n",
       "    <tr>\n",
       "      <th>2</th>\n",
       "      <td> 0.219803</td>\n",
       "      <td> foo</td>\n",
       "      <td> 0.006537</td>\n",
       "      <td> c</td>\n",
       "    </tr>\n",
       "  </tbody>\n",
       "</table>\n",
       "</div>"
      ],
      "text/plain": [
       "          a    b         c  d\n",
       "1  0.287921  bar  0.210949  b\n",
       "2  0.219803  foo  0.006537  c"
      ]
     },
     "execution_count": 83,
     "metadata": {},
     "output_type": "execute_result"
    }
   ],
   "source": [
    "df[df['c']>0]"
   ]
  },
  {
   "cell_type": "code",
   "execution_count": 84,
   "metadata": {
    "collapsed": false
   },
   "outputs": [
    {
     "data": {
      "text/html": [
       "<div style=\"max-height:1000px;max-width:1500px;overflow:auto;\">\n",
       "<table border=\"1\" class=\"dataframe\">\n",
       "  <thead>\n",
       "    <tr style=\"text-align: right;\">\n",
       "      <th></th>\n",
       "      <th>a</th>\n",
       "      <th>b</th>\n",
       "      <th>c</th>\n",
       "      <th>d</th>\n",
       "    </tr>\n",
       "  </thead>\n",
       "  <tbody>\n",
       "    <tr>\n",
       "      <th>1</th>\n",
       "      <td> 0.287921</td>\n",
       "      <td> bar</td>\n",
       "      <td> 0.210949</td>\n",
       "      <td> b</td>\n",
       "    </tr>\n",
       "    <tr>\n",
       "      <th>2</th>\n",
       "      <td> 0.219803</td>\n",
       "      <td> foo</td>\n",
       "      <td> 0.006537</td>\n",
       "      <td> c</td>\n",
       "    </tr>\n",
       "  </tbody>\n",
       "</table>\n",
       "</div>"
      ],
      "text/plain": [
       "          a    b         c  d\n",
       "1  0.287921  bar  0.210949  b\n",
       "2  0.219803  foo  0.006537  c"
      ]
     },
     "execution_count": 84,
     "metadata": {},
     "output_type": "execute_result"
    }
   ],
   "source": [
    "df.ix[df['c']>0]"
   ]
  },
  {
   "cell_type": "code",
   "execution_count": 85,
   "metadata": {
    "collapsed": false
   },
   "outputs": [
    {
     "data": {
      "text/plain": [
       "Index(['a', 'b', 'c', 'd'], dtype='object')"
      ]
     },
     "execution_count": 85,
     "metadata": {},
     "output_type": "execute_result"
    }
   ],
   "source": [
    "df.columns"
   ]
  },
  {
   "cell_type": "code",
   "execution_count": 86,
   "metadata": {
    "collapsed": false
   },
   "outputs": [
    {
     "data": {
      "text/plain": [
       "Int64Index([0, 1, 2, 3, 4, 5], dtype='int64')"
      ]
     },
     "execution_count": 86,
     "metadata": {},
     "output_type": "execute_result"
    }
   ],
   "source": [
    "df.index"
   ]
  },
  {
   "cell_type": "code",
   "execution_count": 89,
   "metadata": {
    "collapsed": false
   },
   "outputs": [
    {
     "data": {
      "text/html": [
       "<div style=\"max-height:1000px;max-width:1500px;overflow:auto;\">\n",
       "<table border=\"1\" class=\"dataframe\">\n",
       "  <thead>\n",
       "    <tr style=\"text-align: right;\">\n",
       "      <th></th>\n",
       "      <th>a</th>\n",
       "      <th>b</th>\n",
       "      <th>c</th>\n",
       "    </tr>\n",
       "  </thead>\n",
       "  <tbody>\n",
       "    <tr>\n",
       "      <th>0</th>\n",
       "      <td>  5</td>\n",
       "      <td>  0</td>\n",
       "      <td>NaN</td>\n",
       "    </tr>\n",
       "    <tr>\n",
       "      <th>1</th>\n",
       "      <td>  3</td>\n",
       "      <td>NaN</td>\n",
       "      <td>  6</td>\n",
       "    </tr>\n",
       "    <tr>\n",
       "      <th>2</th>\n",
       "      <td> 10</td>\n",
       "      <td> 12</td>\n",
       "      <td>  4</td>\n",
       "    </tr>\n",
       "  </tbody>\n",
       "</table>\n",
       "</div>"
      ],
      "text/plain": [
       "    a   b   c\n",
       "0   5   0 NaN\n",
       "1   3 NaN   6\n",
       "2  10  12   4"
      ]
     },
     "execution_count": 89,
     "metadata": {},
     "output_type": "execute_result"
    }
   ],
   "source": [
    "dfi = pd.DataFrame([{'a':5,'b':0},{'a':3,'c':6},{'a':10,'b':12,'c':4}])\n",
    "dfi"
   ]
  },
  {
   "cell_type": "markdown",
   "metadata": {},
   "source": [
    "### Using Date Range"
   ]
  },
  {
   "cell_type": "code",
   "execution_count": 100,
   "metadata": {
    "collapsed": false
   },
   "outputs": [
    {
     "name": "stdout",
     "output_type": "stream",
     "text": [
      "[Timestamp('2015-04-20 00:00:00', offset='D'), Timestamp('2015-04-21 00:00:00', offset='D'), Timestamp('2015-04-22 00:00:00', offset='D'), Timestamp('2015-04-23 00:00:00', offset='D'), Timestamp('2015-04-24 00:00:00', offset='D'), Timestamp('2015-04-25 00:00:00', offset='D'), Timestamp('2015-04-26 00:00:00', offset='D'), Timestamp('2015-04-27 00:00:00', offset='D'), Timestamp('2015-04-28 00:00:00', offset='D'), Timestamp('2015-04-29 00:00:00', offset='D')]\n"
     ]
    },
    {
     "data": {
      "text/html": [
       "<div style=\"max-height:1000px;max-width:1500px;overflow:auto;\">\n",
       "<table border=\"1\" class=\"dataframe\">\n",
       "  <thead>\n",
       "    <tr style=\"text-align: right;\">\n",
       "      <th></th>\n",
       "      <th>a</th>\n",
       "      <th>b</th>\n",
       "      <th>c</th>\n",
       "    </tr>\n",
       "  </thead>\n",
       "  <tbody>\n",
       "    <tr>\n",
       "      <th>2000-01-01</th>\n",
       "      <td>-0.426569</td>\n",
       "      <td> foo</td>\n",
       "      <td> 1.508679</td>\n",
       "    </tr>\n",
       "    <tr>\n",
       "      <th>2000-01-02</th>\n",
       "      <td> 0.699453</td>\n",
       "      <td> bar</td>\n",
       "      <td> 0.956910</td>\n",
       "    </tr>\n",
       "    <tr>\n",
       "      <th>2000-01-03</th>\n",
       "      <td>-1.284162</td>\n",
       "      <td> foo</td>\n",
       "      <td> 2.054117</td>\n",
       "    </tr>\n",
       "    <tr>\n",
       "      <th>2000-01-04</th>\n",
       "      <td> 0.218545</td>\n",
       "      <td> bar</td>\n",
       "      <td>-2.377485</td>\n",
       "    </tr>\n",
       "    <tr>\n",
       "      <th>2000-01-05</th>\n",
       "      <td> 0.993445</td>\n",
       "      <td> foo</td>\n",
       "      <td>-0.561042</td>\n",
       "    </tr>\n",
       "    <tr>\n",
       "      <th>2000-01-06</th>\n",
       "      <td> 0.986684</td>\n",
       "      <td> bar</td>\n",
       "      <td> 0.942044</td>\n",
       "    </tr>\n",
       "  </tbody>\n",
       "</table>\n",
       "</div>"
      ],
      "text/plain": [
       "                   a    b         c\n",
       "2000-01-01 -0.426569  foo  1.508679\n",
       "2000-01-02  0.699453  bar  0.956910\n",
       "2000-01-03 -1.284162  foo  2.054117\n",
       "2000-01-04  0.218545  bar -2.377485\n",
       "2000-01-05  0.993445  foo -0.561042\n",
       "2000-01-06  0.986684  bar  0.942044"
      ]
     },
     "execution_count": 100,
     "metadata": {},
     "output_type": "execute_result"
    }
   ],
   "source": [
    "print([date for date in pd.date_range('04/20/2015',periods=10)])\n",
    "daterange = DataFrame({'a':randn(6),\n",
    "                      'b':['foo','bar']*3,\n",
    "                      'c':randn(6)},\n",
    "                      index=pd.date_range('1/1/2000',periods=6))\n",
    "daterange"
   ]
  },
  {
   "cell_type": "code",
   "execution_count": 102,
   "metadata": {
    "collapsed": false
   },
   "outputs": [
    {
     "data": {
      "text/html": [
       "<div style=\"max-height:1000px;max-width:1500px;overflow:auto;\">\n",
       "<table border=\"1\" class=\"dataframe\">\n",
       "  <thead>\n",
       "    <tr style=\"text-align: right;\">\n",
       "      <th></th>\n",
       "      <th>b</th>\n",
       "      <th>a</th>\n",
       "    </tr>\n",
       "  </thead>\n",
       "  <tbody>\n",
       "    <tr>\n",
       "      <th>0</th>\n",
       "      <td> NaN</td>\n",
       "      <td>-0.209856</td>\n",
       "    </tr>\n",
       "    <tr>\n",
       "      <th>1</th>\n",
       "      <td> NaN</td>\n",
       "      <td> 0.599580</td>\n",
       "    </tr>\n",
       "    <tr>\n",
       "      <th>2</th>\n",
       "      <td> NaN</td>\n",
       "      <td>-2.027295</td>\n",
       "    </tr>\n",
       "    <tr>\n",
       "      <th>3</th>\n",
       "      <td> NaN</td>\n",
       "      <td>-0.180911</td>\n",
       "    </tr>\n",
       "    <tr>\n",
       "      <th>4</th>\n",
       "      <td> NaN</td>\n",
       "      <td> 1.262878</td>\n",
       "    </tr>\n",
       "    <tr>\n",
       "      <th>5</th>\n",
       "      <td> NaN</td>\n",
       "      <td>-0.363504</td>\n",
       "    </tr>\n",
       "  </tbody>\n",
       "</table>\n",
       "</div>"
      ],
      "text/plain": [
       "     b         a\n",
       "0  NaN -0.209856\n",
       "1  NaN  0.599580\n",
       "2  NaN -2.027295\n",
       "3  NaN -0.180911\n",
       "4  NaN  1.262878\n",
       "5  NaN -0.363504"
      ]
     },
     "execution_count": 102,
     "metadata": {},
     "output_type": "execute_result"
    }
   ],
   "source": [
    "# Specify column order\n",
    "dfc = DataFrame({'a':randn(6)},columns=['b','a'])\n",
    "dfc"
   ]
  },
  {
   "cell_type": "markdown",
   "metadata": {},
   "source": [
    "#### pass dict of dicts as argument. Outer dict becomes columns, inner dict rows."
   ]
  },
  {
   "cell_type": "markdown",
   "metadata": {},
   "source": [
    "```python\n",
    "df = read_csv('file.csv', index_col = 0, parse_dates=True)\n",
    "```"
   ]
  },
  {
   "cell_type": "markdown",
   "metadata": {},
   "source": [
    "If we create index with date_range or specify read_csv should index and parse_dates, then when we manipulate the dataframes, they are aligned properly based on the date as shown below"
   ]
  },
  {
   "cell_type": "code",
   "execution_count": 113,
   "metadata": {
    "collapsed": false
   },
   "outputs": [
    {
     "name": "stdout",
     "output_type": "stream",
     "text": [
      "                 val\n",
      "2000-01-01  0.046315\n",
      "2000-01-02 -0.672273\n",
      "2000-01-03 -1.025196\n",
      "2000-01-04 -1.177075\n",
      "2000-01-05  0.101387\n",
      "2000-01-06  0.052195\n",
      "                 val\n",
      "2000-01-04  0.166149\n",
      "2000-01-05  0.154178\n",
      "2000-01-06  0.260228\n",
      "2000-01-07 -0.914625\n",
      "2000-01-08  0.524231\n",
      "2000-01-09  0.290329\n",
      "                 val\n",
      "2000-01-01       NaN\n",
      "2000-01-02       NaN\n",
      "2000-01-03       NaN\n",
      "2000-01-04 -1.010926\n",
      "2000-01-05  0.255565\n",
      "2000-01-06  0.312423\n",
      "2000-01-07       NaN\n",
      "2000-01-08       NaN\n",
      "2000-01-09       NaN\n",
      "                 val\n",
      "2000-01-04 -1.010926\n",
      "2000-01-05  0.255565\n",
      "2000-01-06  0.312423\n"
     ]
    }
   ],
   "source": [
    "df1 = DataFrame({'val':randn(6)},index=pd.date_range('1/1/2000',periods=6))\n",
    "df2 = DataFrame({'val':randn(6)},index=pd.date_range('1/4/2000',periods=6))\n",
    "print(df1)\n",
    "print(df2)\n",
    "print(df1+df2)\n",
    "print((df1+df2).dropna())"
   ]
  },
  {
   "cell_type": "code",
   "execution_count": 117,
   "metadata": {
    "collapsed": false
   },
   "outputs": [
    {
     "name": "stdout",
     "output_type": "stream",
     "text": [
      "                 val\n",
      "2000-01-01  0.046315\n",
      "2000-01-02 -0.672273\n",
      "2000-01-03 -1.025196\n",
      "2000-01-04 -1.010926\n",
      "2000-01-05  0.255565\n",
      "2000-01-06  0.312423\n",
      "2000-01-07 -0.914625\n",
      "2000-01-08  0.524231\n",
      "2000-01-09  0.290329\n"
     ]
    }
   ],
   "source": [
    "# If you want to substitute zero and add\n",
    "print(df1.add(df2,fill_value=0))"
   ]
  },
  {
   "cell_type": "markdown",
   "metadata": {},
   "source": [
    "###Conform dateframes, Re-indexing"
   ]
  },
  {
   "cell_type": "code",
   "execution_count": 145,
   "metadata": {
    "collapsed": false
   },
   "outputs": [
    {
     "name": "stdout",
     "output_type": "stream",
     "text": [
      "                 val\n",
      "2000-01-04 -1.177075\n",
      "2000-01-05  0.101387\n",
      "2000-01-06  0.052195\n",
      "2000-01-07       NaN\n",
      "2000-01-08       NaN\n",
      "2000-01-09       NaN\n",
      "                 val\n",
      "2000-01-04 -1.177075\n",
      "2000-01-05  0.101387\n",
      "2000-01-06  0.052195\n",
      "2000-01-07  0.000000\n",
      "2000-01-08  0.000000\n",
      "2000-01-09  0.000000\n",
      "                 val\n",
      "2000-01-04 -1.177075\n",
      "2000-01-05  0.101387\n",
      "2000-01-06  0.052195\n",
      "2000-01-07       NaN\n",
      "2000-01-08       NaN\n",
      "2000-01-09       NaN\n"
     ]
    },
    {
     "data": {
      "text/html": [
       "<div style=\"max-height:1000px;max-width:1500px;overflow:auto;\">\n",
       "<table border=\"1\" class=\"dataframe\">\n",
       "  <thead>\n",
       "    <tr style=\"text-align: right;\">\n",
       "      <th></th>\n",
       "      <th>val</th>\n",
       "      <th>val</th>\n",
       "    </tr>\n",
       "  </thead>\n",
       "  <tbody>\n",
       "    <tr>\n",
       "      <th>2000-01-04</th>\n",
       "      <td>-1.177075</td>\n",
       "      <td> 0.166149</td>\n",
       "    </tr>\n",
       "    <tr>\n",
       "      <th>2000-01-05</th>\n",
       "      <td> 0.101387</td>\n",
       "      <td> 0.154178</td>\n",
       "    </tr>\n",
       "    <tr>\n",
       "      <th>2000-01-06</th>\n",
       "      <td> 0.052195</td>\n",
       "      <td> 0.260228</td>\n",
       "    </tr>\n",
       "    <tr>\n",
       "      <th>2000-01-07</th>\n",
       "      <td>      NaN</td>\n",
       "      <td>-0.914625</td>\n",
       "    </tr>\n",
       "    <tr>\n",
       "      <th>2000-01-08</th>\n",
       "      <td>      NaN</td>\n",
       "      <td> 0.524231</td>\n",
       "    </tr>\n",
       "    <tr>\n",
       "      <th>2000-01-09</th>\n",
       "      <td>      NaN</td>\n",
       "      <td> 0.290329</td>\n",
       "    </tr>\n",
       "  </tbody>\n",
       "</table>\n",
       "</div>"
      ],
      "text/plain": [
       "                 val       val\n",
       "2000-01-04 -1.177075  0.166149\n",
       "2000-01-05  0.101387  0.154178\n",
       "2000-01-06  0.052195  0.260228\n",
       "2000-01-07       NaN -0.914625\n",
       "2000-01-08       NaN  0.524231\n",
       "2000-01-09       NaN  0.290329"
      ]
     },
     "execution_count": 145,
     "metadata": {},
     "output_type": "execute_result"
    }
   ],
   "source": [
    "print(df1.reindex(df2.index))   # Conform df1 to df2's index range.\n",
    "print(df1.reindex(df2.index,fill_value=0))  # Fill blanks with zero\n",
    "print(df1.ix[df2.index])        # Method 2\n",
    "# side_by_side(df1.ix[df2.index],df2) # Doesn't display side by side for some reason. So, trying the below method\n",
    "# df1.ix[df2.index].append(df2)\n",
    "concat([df1.ix[df2.index],df2],axis=1)"
   ]
  },
  {
   "cell_type": "code",
   "execution_count": 154,
   "metadata": {
    "collapsed": false
   },
   "outputs": [
    {
     "name": "stdout",
     "output_type": "stream",
     "text": [
      "                 val       val\n",
      "2000-01-04 -1.177075  0.166149\n",
      "2000-01-05  0.101387  0.154178\n",
      "2000-01-06  0.052195  0.260228\n",
      "                 val       val\n",
      "2000-01-01  0.046315       NaN\n",
      "2000-01-02 -0.672273       NaN\n",
      "2000-01-03 -1.025196       NaN\n",
      "2000-01-04 -1.177075  0.166149\n",
      "2000-01-05  0.101387  0.154178\n",
      "2000-01-06  0.052195  0.260228\n",
      "2000-01-07       NaN -0.914625\n",
      "2000-01-08       NaN  0.524231\n",
      "2000-01-09       NaN  0.290329\n"
     ]
    }
   ],
   "source": [
    "# Inner Join\n",
    "a,b = df1.align(df2,join='inner')\n",
    "print(concat([a,b],axis=1))\n",
    "# Outer join\n",
    "a,b = df1.align(df2,join='outer')\n",
    "print(concat([a,b],axis=1))"
   ]
  },
  {
   "cell_type": "code",
   "execution_count": null,
   "metadata": {
    "collapsed": true
   },
   "outputs": [],
   "source": []
  }
 ],
 "metadata": {
  "kernelspec": {
   "display_name": "Python 3",
   "language": "python",
   "name": "python3"
  },
  "language_info": {
   "codemirror_mode": {
    "name": "ipython",
    "version": 3
   },
   "file_extension": ".py",
   "mimetype": "text/x-python",
   "name": "python",
   "nbconvert_exporter": "python",
   "pygments_lexer": "ipython3",
   "version": "3.4.3"
  }
 },
 "nbformat": 4,
 "nbformat_minor": 0
}

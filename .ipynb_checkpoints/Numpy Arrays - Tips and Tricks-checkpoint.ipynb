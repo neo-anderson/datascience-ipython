{
 "cells": [
  {
   "cell_type": "markdown",
   "metadata": {},
   "source": [
    "#Numpy Arrays - Tips and Tricks\n",
    "Here are some tricks that would come in handy while using Numpy Arrays"
   ]
  },
  {
   "cell_type": "markdown",
   "metadata": {},
   "source": [
    "Let's say we need an array filled with -1 and +1 in a random manner. We can create this array in different ways."
   ]
  },
  {
   "cell_type": "code",
   "execution_count": 4,
   "metadata": {
    "collapsed": false
   },
   "outputs": [
    {
     "name": "stdout",
     "output_type": "stream",
     "text": [
      "[ 0.17494951  0.72570896  0.26675058  0.6290513   0.70916473  0.25818768\n",
      "  0.79973822  0.02196009  0.03698919  0.01612405]\n",
      "[-1.  1. -1.  1.  1. -1.  1. -1. -1. -1.]\n"
     ]
    }
   ],
   "source": [
    "from numpy.random import random\n",
    "import math\n",
    "# To get an array filled with -1 and 1 at random\n",
    "array = random(10)\n",
    "print(array)\n",
    "abs(math.floor(-0.5))\n",
    "array[array<0.5] = -1\n",
    "array[array>=0.5] = +1\n",
    "print(array)"
   ]
  },
  {
   "cell_type": "markdown",
   "metadata": {},
   "source": [
    "This method replaces values above 0.5 with +1 and the rest with -1. This isn't the best method. Let's see a better way to create such an array"
   ]
  },
  {
   "cell_type": "code",
   "execution_count": 6,
   "metadata": {
    "collapsed": false
   },
   "outputs": [
    {
     "name": "stdout",
     "output_type": "stream",
     "text": [
      "[ 0  0 -1  0 -1 -1  0  0  0  0]\n",
      "[ 1 -1 -1  1  1  1 -1 -1  1  1]\n"
     ]
    }
   ],
   "source": [
    "import numpy as np\n",
    "# Better way\n",
    "print(np.random.randint(-1,1,10))   # integers between -1 and 1. Useful if zero is also required.\n",
    "print(np.random.choice([-1,1],10))  # fills with -1 and 1 only"
   ]
  },
  {
   "cell_type": "markdown",
   "metadata": {},
   "source": [
    "###Incrementally increasing or decreasing values\n",
    "\n",
    "Let's say we are modelling a game and the score increases and decreases at each stage by 1. We can create an array one element at a time with a for loop, each time randomly adding +1 or -1 to the previous element. But this is not very efficient. Here's a more efficient way to achieve this."
   ]
  },
  {
   "cell_type": "code",
   "execution_count": 7,
   "metadata": {
    "collapsed": false
   },
   "outputs": [
    {
     "name": "stdout",
     "output_type": "stream",
     "text": [
      "[ 1  1 -1 -1  1 -1 -1  1  1 -1]\n",
      "[ 1  2  1  0  1  0 -1  0  1  0]\n"
     ]
    }
   ],
   "source": [
    "array = np.random.choice([-1,1],10)  # use randint if there are turns where the score does not change\n",
    "print(array)\n",
    "print(array.cumsum())"
   ]
  },
  {
   "cell_type": "markdown",
   "metadata": {},
   "source": [
    "To summarize, we created an array of +1 and -1 to represent the random increments or decrements. We could have filled it with other integers too, depending on the charactersitics of the changes.\n",
    "Next, we use cumsum function to actually add each increment value to the previous element of the array. Pretty neat, eh? :)"
   ]
  },
  {
   "cell_type": "markdown",
   "metadata": {},
   "source": [
    "###Conditionally modify elements of an array\n",
    "\n",
    "To manipulate the elements based on conditions, you might reach for a for loop. But try to avoid for loops as much as you can, if performance is a concern. \n",
    "\n",
    "Instead, use conditional selection with truth arrays. See the example below"
   ]
  },
  {
   "cell_type": "code",
   "execution_count": 9,
   "metadata": {
    "collapsed": false
   },
   "outputs": [
    {
     "data": {
      "text/plain": [
       "array([  1,   7, -10,   8,  -6, -10,  -9,   8,   4,   8])"
      ]
     },
     "execution_count": 9,
     "metadata": {},
     "output_type": "execute_result"
    }
   ],
   "source": [
    "array = np.random.randint(-10,10,10)\n",
    "array"
   ]
  },
  {
   "cell_type": "markdown",
   "metadata": {},
   "source": [
    "Now, if you want to apply a condition that positive integeres should be replaced with +1 and negative integeres with -1, you can do that in the following manner without using loops."
   ]
  },
  {
   "cell_type": "code",
   "execution_count": 10,
   "metadata": {
    "collapsed": false
   },
   "outputs": [
    {
     "data": {
      "text/plain": [
       "array([ 1,  1, -1,  1, -1, -1, -1,  1,  1,  1])"
      ]
     },
     "execution_count": 10,
     "metadata": {},
     "output_type": "execute_result"
    }
   ],
   "source": [
    "array[array<0] = -1\n",
    "array[array>0] = +1\n",
    "array"
   ]
  },
  {
   "cell_type": "markdown",
   "metadata": {},
   "source": [
    "To be continued..."
   ]
  },
  {
   "cell_type": "code",
   "execution_count": null,
   "metadata": {
    "collapsed": true
   },
   "outputs": [],
   "source": []
  }
 ],
 "metadata": {
  "kernelspec": {
   "display_name": "Python 3",
   "language": "python",
   "name": "python3"
  },
  "language_info": {
   "codemirror_mode": {
    "name": "ipython",
    "version": 3
   },
   "file_extension": ".py",
   "mimetype": "text/x-python",
   "name": "python",
   "nbconvert_exporter": "python",
   "pygments_lexer": "ipython3",
   "version": "3.4.3"
  }
 },
 "nbformat": 4,
 "nbformat_minor": 0
}

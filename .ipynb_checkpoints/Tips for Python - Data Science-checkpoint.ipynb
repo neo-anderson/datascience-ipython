{
 "cells": [
  {
   "cell_type": "code",
   "execution_count": 2,
   "metadata": {
    "collapsed": false
   },
   "outputs": [
    {
     "data": {
      "text/html": [
       "\n",
       "        <iframe\n",
       "            width=\"400\"\n",
       "            height=\"300\"\n",
       "            src=\"https://www.youtube.com/embed/3yaIOsjiSm0\"\n",
       "            frameborder=\"0\"\n",
       "            allowfullscreen\n",
       "        ></iframe>\n",
       "        "
      ],
      "text/plain": [
       "<IPython.lib.display.YouTubeVideo at 0x105cab1d0>"
      ]
     },
     "execution_count": 2,
     "metadata": {},
     "output_type": "execute_result"
    }
   ],
   "source": [
    "%matplotlib inline\n",
    "from IPython.display import YouTubeVideo\n",
    "YouTubeVideo('3yaIOsjiSm0')"
   ]
  },
  {
   "cell_type": "markdown",
   "metadata": {},
   "source": [
    "The main advantage of using Python for Data Science is the fast REPL.\n",
    "Make a script that will execute the housekeeping tasks like creating input and output folders, getting json data, etc.\n",
    "This script will take data, manipulate it, pipe it to python scripts, etc.\n",
    "\n",
    "Combine Pig with python for scalability."
   ]
  },
  {
   "cell_type": "markdown",
   "metadata": {},
   "source": [
    "```python\n",
    "\n",
    "def main():\n",
    "    for line in sys.stdin:\n",
    "        # do something\n",
    "if __name__ == \"__main__\":\n",
    "    main()\n",
    "    \n",
    "#Dictionary comprehension\n",
    "new_dict = {\"new_\"+k : val  for k, val in old_dict.items()}\n",
    "\n",
    "```"
   ]
  },
  {
   "cell_type": "code",
   "execution_count": 8,
   "metadata": {
    "collapsed": false
   },
   "outputs": [
    {
     "name": "stdout",
     "output_type": "stream",
     "text": [
      "dict_items([('b', 2), ('a', 1)])\n"
     ]
    }
   ],
   "source": [
    "dict_from_tuples = dict([ (\"a\",1),(\"b\",2) ])\n",
    "tuples_again = dict_from_tuples.items()\n",
    "print(tuples_again)"
   ]
  },
  {
   "cell_type": "code",
   "execution_count": 20,
   "metadata": {
    "collapsed": false,
    "scrolled": true
   },
   "outputs": [
    {
     "name": "stdout",
     "output_type": "stream",
     "text": [
      "range(0, 7)\n",
      "['Mon', 'Tue', 'Wed', 'Thu', 'Fri', 'Sat', 'Sun']\n",
      "{0: 'Mon', 1: 'Tue', 2: 'Wed', 3: 'Thu', 4: 'Fri', 5: 'Sat', 6: 'Sun'}\n"
     ]
    }
   ],
   "source": [
    "# zip to combine lists\n",
    "# For making a dictionary of days of week indexed by numbers\n",
    "print(range(7))\n",
    "days = [\"Mon\", \"Tue\", \"Wed\", \"Thu\", \"Fri\", \"Sat\", \"Sun\"]\n",
    "print(days)\n",
    "day_of_week = dict(zip(range(7), days))\n",
    "print(day_of_week)"
   ]
  },
  {
   "cell_type": "code",
   "execution_count": 23,
   "metadata": {
    "collapsed": false
   },
   "outputs": [
    {
     "name": "stdout",
     "output_type": "stream",
     "text": [
      "Bob\n",
      "Jane\n",
      "['Bob', 'Jane']\n"
     ]
    }
   ],
   "source": [
    "#dealing with list indexes\n",
    "data = [[\"Bob\",50],[\"Jane\",35]]\n",
    "\n",
    "#bad way\n",
    "for line in data:\n",
    "    name = line[0]\n",
    "    age = line[1]\n",
    "    #doprocessing(name,age)\n",
    "# difficult to maintain and change if there are a lot of columns\n",
    "\n",
    "#good way\n",
    "cols = [\"name\", \"age\"]\n",
    "\n",
    "for line in data:\n",
    "    record = dict(zip(cols,line))\n",
    "    print(record[\"name\"])\n",
    "    #doprocessing(record)\n",
    "\n",
    "#good way 2\n",
    "employees = [dict(zip(cols,record)) for record in data]\n",
    "print([emp[\"name\"] for emp in employees])"
   ]
  },
  {
   "cell_type": "code",
   "execution_count": 28,
   "metadata": {
    "collapsed": false
   },
   "outputs": [
    {
     "name": "stdout",
     "output_type": "stream",
     "text": [
      "2015 4 15\n",
      "This is a string\tand so is this\n"
     ]
    }
   ],
   "source": [
    "#String manipulation, split, join\n",
    "date_string = \"2015-04-15\"\n",
    "year,month,day = [int(x) for x in date_string.split(\"-\")]\n",
    "print(year,month,day)\n",
    "\n",
    "#combine list of strings\n",
    "s1 = \"This is a string\"\n",
    "s2 = \"and so is this\"\n",
    "print(\"\\t\".join([s1,s2]))  # Use tab character to join this list of strings"
   ]
  },
  {
   "cell_type": "code",
   "execution_count": 34,
   "metadata": {
    "collapsed": false
   },
   "outputs": [
    {
     "name": "stdout",
     "output_type": "stream",
     "text": [
      "Hello world!\n",
      "Emp name : Jane\t\tEmp age : 35 years old\n",
      "http://whatever.com/Jan\n"
     ]
    }
   ],
   "source": [
    "# Templating\n",
    "hw_template = \"Hello %s!\"\n",
    "print(hw_template % \"world\")\n",
    "\n",
    "# Template method 2\n",
    "emp_template = \"Emp name : %(name)s\\t\\tEmp age : %(age)i years old\"\n",
    "print(emp_template % {\"name\":\"Jane\", \"age\":35})\n",
    "\n",
    "# Template method 3\n",
    "month = \"Jan\"\n",
    "url_template = 'http://whatever.com/{month}'\n",
    "print(url_template.format(month=month))"
   ]
  },
  {
   "cell_type": "code",
   "execution_count": 61,
   "metadata": {
    "collapsed": false
   },
   "outputs": [
    {
     "name": "stdout",
     "output_type": "stream",
     "text": [
      "True\n",
      "True\n",
      "True\n",
      "True\n",
      "--world\n",
      "True\n"
     ]
    }
   ],
   "source": [
    "# String functions\n",
    "print(\"hello\".endswith(\"lo\"))\n",
    "print(\"waterbottle\".startswith(\"wa\"))\n",
    "print(\"world   \\t\\n\".strip() == \"world\")\n",
    "print(\"world !\".strip() == \"world !\")  # will not strip white space inside\n",
    "print(\"world\".rjust(7,\"-\"))\n",
    "\"world\".replace(\"or\",\"i\")\n",
    "print(\"1234\".isdigit())      # only checks if the contents are numbers"
   ]
  }
 ],
 "metadata": {
  "kernelspec": {
   "display_name": "Python 3",
   "language": "python",
   "name": "python3"
  },
  "language_info": {
   "codemirror_mode": {
    "name": "ipython",
    "version": 3
   },
   "file_extension": ".py",
   "mimetype": "text/x-python",
   "name": "python",
   "nbconvert_exporter": "python",
   "pygments_lexer": "ipython3",
   "version": "3.4.3"
  }
 },
 "nbformat": 4,
 "nbformat_minor": 0
}

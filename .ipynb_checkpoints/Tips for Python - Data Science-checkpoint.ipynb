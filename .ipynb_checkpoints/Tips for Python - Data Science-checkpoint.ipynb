{
 "cells": [
  {
   "cell_type": "code",
   "execution_count": 2,
   "metadata": {
    "collapsed": false
   },
   "outputs": [
    {
     "data": {
      "text/html": [
       "\n",
       "        <iframe\n",
       "            width=\"400\"\n",
       "            height=\"300\"\n",
       "            src=\"https://www.youtube.com/embed/3yaIOsjiSm0\"\n",
       "            frameborder=\"0\"\n",
       "            allowfullscreen\n",
       "        ></iframe>\n",
       "        "
      ],
      "text/plain": [
       "<IPython.lib.display.YouTubeVideo at 0x105cab1d0>"
      ]
     },
     "execution_count": 2,
     "metadata": {},
     "output_type": "execute_result"
    }
   ],
   "source": [
    "%matplotlib inline\n",
    "from IPython.display import YouTubeVideo\n",
    "YouTubeVideo('3yaIOsjiSm0')"
   ]
  },
  {
   "cell_type": "markdown",
   "metadata": {},
   "source": [
    "The main advantage of using Python for Data Science is the fast REPL.\n",
    "Make a script that will execute the housekeeping tasks like creating input and output folders, getting json data, etc.\n",
    "This script will take data, manipulate it, pipe it to python scripts, etc.\n",
    "\n",
    "Combine Pig with python for scalability."
   ]
  },
  {
   "cell_type": "markdown",
   "metadata": {},
   "source": [
    "```python\n",
    "\n",
    "def main():\n",
    "    for line in sys.stdin:\n",
    "        # do something\n",
    "if __name__ == \"__main__\":\n",
    "    main()\n",
    "    \n",
    "#Dictionary comprehension\n",
    "new_dict = {\"new_\"+k : val  for k, val in old_dict.items()}\n",
    "\n",
    "```"
   ]
  },
  {
   "cell_type": "code",
   "execution_count": 8,
   "metadata": {
    "collapsed": false
   },
   "outputs": [
    {
     "name": "stdout",
     "output_type": "stream",
     "text": [
      "dict_items([('b', 2), ('a', 1)])\n"
     ]
    }
   ],
   "source": [
    "dict_from_tuples = dict([ (\"a\",1),(\"b\",2) ])\n",
    "tuples_again = dict_from_tuples.items()\n",
    "print(tuples_again)"
   ]
  },
  {
   "cell_type": "code",
   "execution_count": 20,
   "metadata": {
    "collapsed": false,
    "scrolled": true
   },
   "outputs": [
    {
     "name": "stdout",
     "output_type": "stream",
     "text": [
      "range(0, 7)\n",
      "['Mon', 'Tue', 'Wed', 'Thu', 'Fri', 'Sat', 'Sun']\n",
      "{0: 'Mon', 1: 'Tue', 2: 'Wed', 3: 'Thu', 4: 'Fri', 5: 'Sat', 6: 'Sun'}\n"
     ]
    }
   ],
   "source": [
    "# zip to combine lists\n",
    "# For making a dictionary of days of week indexed by numbers\n",
    "print(range(7))\n",
    "days = [\"Mon\", \"Tue\", \"Wed\", \"Thu\", \"Fri\", \"Sat\", \"Sun\"]\n",
    "print(days)\n",
    "day_of_week = dict(zip(range(7), days))\n",
    "print(day_of_week)"
   ]
  },
  {
   "cell_type": "code",
   "execution_count": 23,
   "metadata": {
    "collapsed": false
   },
   "outputs": [
    {
     "name": "stdout",
     "output_type": "stream",
     "text": [
      "Bob\n",
      "Jane\n",
      "['Bob', 'Jane']\n"
     ]
    }
   ],
   "source": [
    "#dealing with list indexes\n",
    "data = [[\"Bob\",50],[\"Jane\",35]]\n",
    "\n",
    "#bad way\n",
    "for line in data:\n",
    "    name = line[0]\n",
    "    age = line[1]\n",
    "    #doprocessing(name,age)\n",
    "# difficult to maintain and change if there are a lot of columns\n",
    "\n",
    "#good way\n",
    "cols = [\"name\", \"age\"]\n",
    "\n",
    "for line in data:\n",
    "    record = dict(zip(cols,line))\n",
    "    print(record[\"name\"])\n",
    "    #doprocessing(record)\n",
    "\n",
    "#good way 2\n",
    "employees = [dict(zip(cols,record)) for record in data]\n",
    "print([emp[\"name\"] for emp in employees])"
   ]
  },
  {
   "cell_type": "code",
   "execution_count": 28,
   "metadata": {
    "collapsed": false
   },
   "outputs": [
    {
     "name": "stdout",
     "output_type": "stream",
     "text": [
      "2015 4 15\n",
      "This is a string\tand so is this\n"
     ]
    }
   ],
   "source": [
    "#String manipulation, split, join\n",
    "date_string = \"2015-04-15\"\n",
    "year,month,day = [int(x) for x in date_string.split(\"-\")]\n",
    "print(year,month,day)\n",
    "\n",
    "#combine list of strings\n",
    "s1 = \"This is a string\"\n",
    "s2 = \"and so is this\"\n",
    "print(\"\\t\".join([s1,s2]))  # Use tab character to join this list of strings"
   ]
  },
  {
   "cell_type": "code",
   "execution_count": 34,
   "metadata": {
    "collapsed": false
   },
   "outputs": [
    {
     "name": "stdout",
     "output_type": "stream",
     "text": [
      "Hello world!\n",
      "Emp name : Jane\t\tEmp age : 35 years old\n",
      "http://whatever.com/Jan\n"
     ]
    }
   ],
   "source": [
    "# Templating\n",
    "hw_template = \"Hello %s!\"\n",
    "print(hw_template % \"world\")\n",
    "\n",
    "# Template method 2\n",
    "emp_template = \"Emp name : %(name)s\\t\\tEmp age : %(age)i years old\"\n",
    "print(emp_template % {\"name\":\"Jane\", \"age\":35})\n",
    "\n",
    "# Template method 3\n",
    "month = \"Jan\"\n",
    "url_template = 'http://whatever.com/{month}'\n",
    "print(url_template.format(month=month))"
   ]
  },
  {
   "cell_type": "code",
   "execution_count": 61,
   "metadata": {
    "collapsed": false
   },
   "outputs": [
    {
     "name": "stdout",
     "output_type": "stream",
     "text": [
      "True\n",
      "True\n",
      "True\n",
      "True\n",
      "--world\n",
      "True\n"
     ]
    }
   ],
   "source": [
    "# String functions\n",
    "print(\"hello\".endswith(\"lo\"))\n",
    "print(\"waterbottle\".startswith(\"wa\"))\n",
    "print(\"world   \\t\\n\".strip() == \"world\")\n",
    "print(\"world !\".strip() == \"world !\")  # will not strip white space inside\n",
    "print(\"world\".rjust(7,\"-\"))\n",
    "\"world\".replace(\"or\",\"i\")\n",
    "print(\"1234\".isdigit())      # only checks if the contents are numbers"
   ]
  },
  {
   "cell_type": "markdown",
   "metadata": {},
   "source": [
    "Use iterators rather than lists.\n",
    "Lists are stored in memory\n",
    "Iterators are processed one at a time\n",
    "\n",
    "```python\n",
    "#Example\n",
    "for line in sys.stdin:\n",
    "\n",
    "\n",
    "ys = [f(x) for x in xs] #List\n",
    "ys = (f(x) for x in xs) #Iterator\n",
    "```\n"
   ]
  },
  {
   "cell_type": "code",
   "execution_count": 6,
   "metadata": {
    "collapsed": false
   },
   "outputs": [],
   "source": [
    "xs = [34,45,62,46,24]\n",
    "\n",
    "#Iterator\n",
    "def apply_f(xs):\n",
    "    for x in xs:\n",
    "        yield f(x)\n",
    "ys = apply_f(xs)\n"
   ]
  },
  {
   "cell_type": "markdown",
   "metadata": {},
   "source": [
    "**Use itertools for efficient processing, that do not have to load the entire data in the memory**"
   ]
  },
  {
   "cell_type": "code",
   "execution_count": 16,
   "metadata": {
    "collapsed": false
   },
   "outputs": [
    {
     "name": "stdout",
     "output_type": "stream",
     "text": [
      "<zip object at 0x107218e08>\n",
      "(1, 'a')\n",
      "(2, 'b')\n",
      "(3, 'c')\n",
      "(4, 'd')\n",
      "(1, 2, 3)\n",
      "(1, 2, 4)\n",
      "(1, 2, 5)\n",
      "(1, 3, 4)\n",
      "(1, 3, 5)\n",
      "(1, 4, 5)\n",
      "(2, 3, 4)\n",
      "(2, 3, 5)\n",
      "(2, 4, 5)\n",
      "(3, 4, 5)\n"
     ]
    }
   ],
   "source": [
    "#Use itertools for iterators\n",
    "try:\n",
    "    from itertools import izip\n",
    "except ImportError:\n",
    "    izip = zip\n",
    "# list1 = [1,2,3,4,5]\n",
    "list1 = list(range(1,6))\n",
    "list2 = [\"a\",\"b\",\"c\",\"d\"] # No e, so only the first 4 items can be paired\n",
    "pairs = izip(list1, list2)\n",
    "print(pairs)  # Contents not in ram\n",
    "for p in pairs:\n",
    "    print(p)\n",
    "\n",
    "# permutations and combinations\n",
    "# it.permutations\n",
    "triples = it.combinations(list1,3)\n",
    "for t in triples:\n",
    "    print(t)"
   ]
  },
  {
   "cell_type": "markdown",
   "metadata": {},
   "source": [
    "Itertools groupby function\n",
    "http://stackoverflow.com/questions/773/how-do-i-use-pythons-itertools-groupby/7286#7286"
   ]
  },
  {
   "cell_type": "code",
   "execution_count": 37,
   "metadata": {
    "collapsed": false
   },
   "outputs": [
    {
     "name": "stdout",
     "output_type": "stream",
     "text": [
      "animal\n",
      "bear\n",
      "duck\n",
      "\n",
      "plant\n",
      "cactus\n",
      "\n",
      "vehicle\n",
      "speed boat\n",
      "school bus\n",
      "\n",
      "animal\n",
      "bear is in animal\n",
      "duck is in animal\n",
      "\n",
      "plant\n",
      "cactus is in plant\n",
      "\n",
      "vehicle\n",
      "speed boat is in vehicle\n",
      "school bus is in vehicle\n",
      "\n",
      "animals:  bear and duck.\n",
      "plants:  cactus.\n",
      "vehicles:  speed boat and school bus.\n"
     ]
    }
   ],
   "source": [
    "from itertools import groupby\n",
    "# groupby iterator can group a SORTED list\n",
    "things = [(\"animal\", \"bear\"), (\"animal\", \"duck\"), (\"plant\", \"cactus\"), (\"vehicle\", \"speed boat\"), (\"vehicle\", \"school bus\")]\n",
    "groups = groupby(things, key=lambda x: x[0])\n",
    "\n",
    "# Method 1\n",
    "for group in groups:\n",
    "    print(group[0]) # First element, group name, of the tuple. Second element is an iterator\n",
    "    for item in group[1]:\n",
    "        print(item[1])  # First element is group name itself. Structure is same as the original tuple\n",
    "    print()\n",
    "\n",
    "#Method 2\n",
    "groups = groupby(things, key=lambda x: x[0])  # Iterator has expired and has to be reinitiated\n",
    "for key,group in groups:\n",
    "    print(key)\n",
    "    for item in group:\n",
    "        print(item[1],\"is in\",item[0])\n",
    "    print()\n",
    "\n",
    "    \n",
    "# Method 3\n",
    "for key, group in groupby(things, lambda x: x[0]):\n",
    "    listOfThings = \" and \".join([thing[1] for thing in group])\n",
    "    print(key + \"s:  \" + listOfThings + \".\")\n",
    "    "
   ]
  },
  {
   "cell_type": "markdown",
   "metadata": {},
   "source": [
    "**Use Sets**\n",
    "```python\n",
    "unique_categories = set([ x[\"category\"] for x in records ])\n",
    "\n",
    "#frozensets are immutable\n",
    "cities = frozenset([\"Frankfurt\", \"Basel\",\"Freiburg\"])\n",
    "cities.add(\"Delhi\")  #Error\n",
    "```"
   ]
  },
  {
   "cell_type": "markdown",
   "metadata": {},
   "source": [
    "### Libraries\n",
    "Scikit-Learn : ML  \n",
    "Pandas : Data frames  \n",
    "SciPy: Numerical Computing  \n",
    "Matplotlib : Graphics  \n",
    "NumPy : Arrays  "
   ]
  }
 ],
 "metadata": {
  "kernelspec": {
   "display_name": "Python 3",
   "language": "python",
   "name": "python3"
  },
  "language_info": {
   "codemirror_mode": {
    "name": "ipython",
    "version": 3
   },
   "file_extension": ".py",
   "mimetype": "text/x-python",
   "name": "python",
   "nbconvert_exporter": "python",
   "pygments_lexer": "ipython3",
   "version": "3.4.3"
  }
 },
 "nbformat": 4,
 "nbformat_minor": 0
}

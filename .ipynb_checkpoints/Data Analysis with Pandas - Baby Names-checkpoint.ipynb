{
 "cells": [
  {
   "cell_type": "code",
   "execution_count": 334,
   "metadata": {
    "collapsed": false
   },
   "outputs": [],
   "source": [
    "%matplotlib inline\n",
    "from pandas import *\n",
    "set_option('display.notebook_repr_html',True) # HTML output\n",
    "set_option('display.max_rows',20)\n",
    "import matplotlib.pyplot as plt\n",
    "import numpy as np"
   ]
  },
  {
   "cell_type": "code",
   "execution_count": 10,
   "metadata": {
    "collapsed": false
   },
   "outputs": [
    {
     "data": {
      "text/plain": [
       "   year     name      prop  sex soundex\n",
       "0  1880     John  0.081541  boy    J500\n",
       "1  1880  William  0.080511  boy    W450\n",
       "2  1880    James  0.050057  boy    J520\n",
       "3  1880  Charles  0.045167  boy    C642\n",
       "4  1880   George  0.043292  boy    G620"
      ]
     },
     "execution_count": 10,
     "metadata": {},
     "output_type": "execute_result"
    }
   ],
   "source": [
    "names = read_csv('data/baby-names2.csv')"
   ]
  },
  {
   "cell_type": "code",
   "execution_count": 23,
   "metadata": {
    "collapsed": false
   },
   "outputs": [
    {
     "data": {
      "text/html": [
       "<div style=\"max-height:1000px;max-width:1500px;overflow:auto;\">\n",
       "<table border=\"1\" class=\"dataframe\">\n",
       "  <thead>\n",
       "    <tr style=\"text-align: right;\">\n",
       "      <th></th>\n",
       "      <th>year</th>\n",
       "      <th>name</th>\n",
       "      <th>prop</th>\n",
       "      <th>sex</th>\n",
       "      <th>soundex</th>\n",
       "    </tr>\n",
       "  </thead>\n",
       "  <tbody>\n",
       "    <tr>\n",
       "      <th>0</th>\n",
       "      <td> 1880</td>\n",
       "      <td>    John</td>\n",
       "      <td> 0.081541</td>\n",
       "      <td> boy</td>\n",
       "      <td> J500</td>\n",
       "    </tr>\n",
       "    <tr>\n",
       "      <th>1</th>\n",
       "      <td> 1880</td>\n",
       "      <td> William</td>\n",
       "      <td> 0.080511</td>\n",
       "      <td> boy</td>\n",
       "      <td> W450</td>\n",
       "    </tr>\n",
       "    <tr>\n",
       "      <th>2</th>\n",
       "      <td> 1880</td>\n",
       "      <td>   James</td>\n",
       "      <td> 0.050057</td>\n",
       "      <td> boy</td>\n",
       "      <td> J520</td>\n",
       "    </tr>\n",
       "    <tr>\n",
       "      <th>3</th>\n",
       "      <td> 1880</td>\n",
       "      <td> Charles</td>\n",
       "      <td> 0.045167</td>\n",
       "      <td> boy</td>\n",
       "      <td> C642</td>\n",
       "    </tr>\n",
       "    <tr>\n",
       "      <th>4</th>\n",
       "      <td> 1880</td>\n",
       "      <td>  George</td>\n",
       "      <td> 0.043292</td>\n",
       "      <td> boy</td>\n",
       "      <td> G620</td>\n",
       "    </tr>\n",
       "  </tbody>\n",
       "</table>\n",
       "</div>"
      ],
      "text/plain": [
       "   year     name      prop  sex soundex\n",
       "0  1880     John  0.081541  boy    J500\n",
       "1  1880  William  0.080511  boy    W450\n",
       "2  1880    James  0.050057  boy    J520\n",
       "3  1880  Charles  0.045167  boy    C642\n",
       "4  1880   George  0.043292  boy    G620"
      ]
     },
     "execution_count": 23,
     "metadata": {},
     "output_type": "execute_result"
    }
   ],
   "source": [
    "names.head()"
   ]
  },
  {
   "cell_type": "code",
   "execution_count": 17,
   "metadata": {
    "collapsed": false
   },
   "outputs": [
    {
     "data": {
      "text/html": [
       "<div style=\"max-height:1000px;max-width:1500px;overflow:auto;\">\n",
       "<table border=\"1\" class=\"dataframe\">\n",
       "  <thead>\n",
       "    <tr style=\"text-align: right;\">\n",
       "      <th></th>\n",
       "      <th>year</th>\n",
       "      <th>name</th>\n",
       "      <th>prop</th>\n",
       "      <th>sex</th>\n",
       "      <th>soundex</th>\n",
       "    </tr>\n",
       "  </thead>\n",
       "  <tbody>\n",
       "    <tr>\n",
       "      <th>129995</th>\n",
       "      <td> 1880</td>\n",
       "      <td> Emaline</td>\n",
       "      <td> 0.000041</td>\n",
       "      <td> girl</td>\n",
       "      <td> E545</td>\n",
       "    </tr>\n",
       "    <tr>\n",
       "      <th>129996</th>\n",
       "      <td> 1880</td>\n",
       "      <td>   Ester</td>\n",
       "      <td> 0.000041</td>\n",
       "      <td> girl</td>\n",
       "      <td> E236</td>\n",
       "    </tr>\n",
       "    <tr>\n",
       "      <th>129997</th>\n",
       "      <td> 1880</td>\n",
       "      <td>   Eulah</td>\n",
       "      <td> 0.000041</td>\n",
       "      <td> girl</td>\n",
       "      <td> E400</td>\n",
       "    </tr>\n",
       "    <tr>\n",
       "      <th>129998</th>\n",
       "      <td> 1880</td>\n",
       "      <td> Eulalie</td>\n",
       "      <td> 0.000041</td>\n",
       "      <td> girl</td>\n",
       "      <td> E440</td>\n",
       "    </tr>\n",
       "    <tr>\n",
       "      <th>129999</th>\n",
       "      <td> 1880</td>\n",
       "      <td>    Euna</td>\n",
       "      <td> 0.000041</td>\n",
       "      <td> girl</td>\n",
       "      <td> E500</td>\n",
       "    </tr>\n",
       "  </tbody>\n",
       "</table>\n",
       "</div>"
      ],
      "text/plain": [
       "        year     name      prop   sex soundex\n",
       "129995  1880  Emaline  0.000041  girl    E545\n",
       "129996  1880    Ester  0.000041  girl    E236\n",
       "129997  1880    Eulah  0.000041  girl    E400\n",
       "129998  1880  Eulalie  0.000041  girl    E440\n",
       "129999  1880     Euna  0.000041  girl    E500"
      ]
     },
     "execution_count": 17,
     "metadata": {},
     "output_type": "execute_result"
    }
   ],
   "source": [
    "names[names.year == 1880].tail()"
   ]
  },
  {
   "cell_type": "code",
   "execution_count": 26,
   "metadata": {
    "collapsed": true
   },
   "outputs": [],
   "source": [
    "boys = names[names.sex == 'boy']\n",
    "girls = names[names.sex == 'girl']"
   ]
  },
  {
   "cell_type": "code",
   "execution_count": 19,
   "metadata": {
    "collapsed": false
   },
   "outputs": [
    {
     "data": {
      "text/html": [
       "<div style=\"max-height:1000px;max-width:1500px;overflow:auto;\">\n",
       "<table border=\"1\" class=\"dataframe\">\n",
       "  <thead>\n",
       "    <tr style=\"text-align: right;\">\n",
       "      <th></th>\n",
       "      <th>year</th>\n",
       "      <th>name</th>\n",
       "      <th>prop</th>\n",
       "      <th>sex</th>\n",
       "      <th>soundex</th>\n",
       "    </tr>\n",
       "  </thead>\n",
       "  <tbody>\n",
       "    <tr>\n",
       "      <th>0</th>\n",
       "      <td> 1880</td>\n",
       "      <td>    John</td>\n",
       "      <td> 0.081541</td>\n",
       "      <td> boy</td>\n",
       "      <td> J500</td>\n",
       "    </tr>\n",
       "    <tr>\n",
       "      <th>1</th>\n",
       "      <td> 1880</td>\n",
       "      <td> William</td>\n",
       "      <td> 0.080511</td>\n",
       "      <td> boy</td>\n",
       "      <td> W450</td>\n",
       "    </tr>\n",
       "    <tr>\n",
       "      <th>2</th>\n",
       "      <td> 1880</td>\n",
       "      <td>   James</td>\n",
       "      <td> 0.050057</td>\n",
       "      <td> boy</td>\n",
       "      <td> J520</td>\n",
       "    </tr>\n",
       "    <tr>\n",
       "      <th>3</th>\n",
       "      <td> 1880</td>\n",
       "      <td> Charles</td>\n",
       "      <td> 0.045167</td>\n",
       "      <td> boy</td>\n",
       "      <td> C642</td>\n",
       "    </tr>\n",
       "    <tr>\n",
       "      <th>4</th>\n",
       "      <td> 1880</td>\n",
       "      <td>  George</td>\n",
       "      <td> 0.043292</td>\n",
       "      <td> boy</td>\n",
       "      <td> G620</td>\n",
       "    </tr>\n",
       "  </tbody>\n",
       "</table>\n",
       "</div>"
      ],
      "text/plain": [
       "   year     name      prop  sex soundex\n",
       "0  1880     John  0.081541  boy    J500\n",
       "1  1880  William  0.080511  boy    W450\n",
       "2  1880    James  0.050057  boy    J520\n",
       "3  1880  Charles  0.045167  boy    C642\n",
       "4  1880   George  0.043292  boy    G620"
      ]
     },
     "execution_count": 19,
     "metadata": {},
     "output_type": "execute_result"
    }
   ],
   "source": [
    "boys.head()"
   ]
  },
  {
   "cell_type": "code",
   "execution_count": 24,
   "metadata": {
    "collapsed": false
   },
   "outputs": [
    {
     "name": "stdout",
     "output_type": "stream",
     "text": [
      "<class 'pandas.core.frame.DataFrame'>\n",
      "Int64Index: 129000 entries, 0 to 128999\n",
      "Data columns (total 5 columns):\n",
      "year       129000 non-null int64\n",
      "name       129000 non-null object\n",
      "prop       129000 non-null float64\n",
      "sex        129000 non-null object\n",
      "soundex    129000 non-null object\n",
      "dtypes: float64(1), int64(1), object(3)"
     ]
    }
   ],
   "source": [
    "boys.info()"
   ]
  },
  {
   "cell_type": "code",
   "execution_count": 27,
   "metadata": {
    "collapsed": false
   },
   "outputs": [
    {
     "name": "stdout",
     "output_type": "stream",
     "text": [
      "<class 'pandas.core.frame.DataFrame'>\n",
      "Int64Index: 129000 entries, 129000 to 257999\n",
      "Data columns (total 5 columns):\n",
      "year       129000 non-null int64\n",
      "name       129000 non-null object\n",
      "prop       129000 non-null float64\n",
      "sex        129000 non-null object\n",
      "soundex    129000 non-null object\n",
      "dtypes: float64(1), int64(1), object(3)"
     ]
    }
   ],
   "source": [
    "girls.info()"
   ]
  },
  {
   "cell_type": "code",
   "execution_count": 39,
   "metadata": {
    "collapsed": false
   },
   "outputs": [
    {
     "data": {
      "text/plain": [
       "year\n",
       "1880    1000\n",
       "1881    1000\n",
       "1882    1000\n",
       "...\n",
       "2006    1000\n",
       "2007    1000\n",
       "2008    1000\n",
       "Length: 129, dtype: int64"
      ]
     },
     "execution_count": 39,
     "metadata": {},
     "output_type": "execute_result"
    }
   ],
   "source": [
    "boys.groupby('year').size() # Number of records in each group"
   ]
  },
  {
   "cell_type": "code",
   "execution_count": 44,
   "metadata": {
    "collapsed": false
   },
   "outputs": [
    {
     "name": "stdout",
     "output_type": "stream",
     "text": [
      "year  sex \n",
      "1880  boy     1000\n",
      "      girl    1000\n",
      "1881  boy     1000\n",
      "...\n",
      "2007  girl    1000\n",
      "2008  boy     1000\n",
      "      girl    1000\n",
      "Length: 258, dtype: int64\n",
      "<class 'pandas.core.series.Series'>\n"
     ]
    }
   ],
   "source": [
    "groups = names.groupby(['year','sex']).size()\n",
    "print(groups)\n",
    "print(type(groups)) # Even the result is a series with multi-indexing"
   ]
  },
  {
   "cell_type": "code",
   "execution_count": 45,
   "metadata": {
    "collapsed": false
   },
   "outputs": [
    {
     "name": "stdout",
     "output_type": "stream",
     "text": [
      "sex\n",
      "boy     1000\n",
      "girl    1000\n",
      "dtype: int64\n"
     ]
    }
   ],
   "source": [
    "# Since multi-indexed, we can check the count of specific year/sex\n",
    "print(groups.ix[2000])"
   ]
  },
  {
   "cell_type": "code",
   "execution_count": 48,
   "metadata": {
    "collapsed": false
   },
   "outputs": [
    {
     "name": "stdout",
     "output_type": "stream",
     "text": [
      "1000\n"
     ]
    }
   ],
   "source": [
    "print(groups.ix[2000]['boy']) # 1000 boys in year 2000"
   ]
  },
  {
   "cell_type": "markdown",
   "metadata": {},
   "source": [
    "##Let's find the most popular names for boys"
   ]
  },
  {
   "cell_type": "code",
   "execution_count": 51,
   "metadata": {
    "collapsed": false
   },
   "outputs": [
    {
     "data": {
      "text/html": [
       "<div style=\"max-height:1000px;max-width:1500px;overflow:auto;\">\n",
       "<table border=\"1\" class=\"dataframe\">\n",
       "  <thead>\n",
       "    <tr style=\"text-align: right;\">\n",
       "      <th></th>\n",
       "      <th>year</th>\n",
       "      <th>name</th>\n",
       "      <th>prop</th>\n",
       "      <th>sex</th>\n",
       "      <th>soundex</th>\n",
       "    </tr>\n",
       "  </thead>\n",
       "  <tbody>\n",
       "    <tr>\n",
       "      <th>120000</th>\n",
       "      <td> 2000</td>\n",
       "      <td>       Jacob</td>\n",
       "      <td> 0.016514</td>\n",
       "      <td> boy</td>\n",
       "      <td> J210</td>\n",
       "    </tr>\n",
       "    <tr>\n",
       "      <th>120001</th>\n",
       "      <td> 2000</td>\n",
       "      <td>     Michael</td>\n",
       "      <td> 0.015346</td>\n",
       "      <td> boy</td>\n",
       "      <td> M240</td>\n",
       "    </tr>\n",
       "    <tr>\n",
       "      <th>120002</th>\n",
       "      <td> 2000</td>\n",
       "      <td>     Matthew</td>\n",
       "      <td> 0.013695</td>\n",
       "      <td> boy</td>\n",
       "      <td> M300</td>\n",
       "    </tr>\n",
       "    <tr>\n",
       "      <th>120003</th>\n",
       "      <td> 2000</td>\n",
       "      <td>      Joshua</td>\n",
       "      <td> 0.013194</td>\n",
       "      <td> boy</td>\n",
       "      <td> J200</td>\n",
       "    </tr>\n",
       "    <tr>\n",
       "      <th>120004</th>\n",
       "      <td> 2000</td>\n",
       "      <td> Christopher</td>\n",
       "      <td> 0.011990</td>\n",
       "      <td> boy</td>\n",
       "      <td> C623</td>\n",
       "    </tr>\n",
       "    <tr>\n",
       "      <th>...</th>\n",
       "      <td>...</td>\n",
       "      <td>...</td>\n",
       "      <td>...</td>\n",
       "      <td>...</td>\n",
       "      <td>...</td>\n",
       "    </tr>\n",
       "    <tr>\n",
       "      <th>120995</th>\n",
       "      <td> 2000</td>\n",
       "      <td>       Dayne</td>\n",
       "      <td> 0.000071</td>\n",
       "      <td> boy</td>\n",
       "      <td> D500</td>\n",
       "    </tr>\n",
       "    <tr>\n",
       "      <th>120996</th>\n",
       "      <td> 2000</td>\n",
       "      <td>   Francesco</td>\n",
       "      <td> 0.000071</td>\n",
       "      <td> boy</td>\n",
       "      <td> F652</td>\n",
       "    </tr>\n",
       "    <tr>\n",
       "      <th>120997</th>\n",
       "      <td> 2000</td>\n",
       "      <td>       Isaak</td>\n",
       "      <td> 0.000071</td>\n",
       "      <td> boy</td>\n",
       "      <td> I220</td>\n",
       "    </tr>\n",
       "    <tr>\n",
       "      <th>120998</th>\n",
       "      <td> 2000</td>\n",
       "      <td>      Lionel</td>\n",
       "      <td> 0.000071</td>\n",
       "      <td> boy</td>\n",
       "      <td> L540</td>\n",
       "    </tr>\n",
       "    <tr>\n",
       "      <th>120999</th>\n",
       "      <td> 2000</td>\n",
       "      <td>       Tracy</td>\n",
       "      <td> 0.000071</td>\n",
       "      <td> boy</td>\n",
       "      <td> T620</td>\n",
       "    </tr>\n",
       "  </tbody>\n",
       "</table>\n",
       "<p>1000 rows × 5 columns</p>\n",
       "</div>"
      ],
      "text/plain": [
       "        year         name      prop  sex soundex\n",
       "120000  2000        Jacob  0.016514  boy    J210\n",
       "120001  2000      Michael  0.015346  boy    M240\n",
       "120002  2000      Matthew  0.013695  boy    M300\n",
       "120003  2000       Joshua  0.013194  boy    J200\n",
       "120004  2000  Christopher  0.011990  boy    C623\n",
       "...      ...          ...       ...  ...     ...\n",
       "120995  2000        Dayne  0.000071  boy    D500\n",
       "120996  2000    Francesco  0.000071  boy    F652\n",
       "120997  2000        Isaak  0.000071  boy    I220\n",
       "120998  2000       Lionel  0.000071  boy    L540\n",
       "120999  2000        Tracy  0.000071  boy    T620\n",
       "\n",
       "[1000 rows x 5 columns]"
      ]
     },
     "execution_count": 51,
     "metadata": {},
     "output_type": "execute_result"
    }
   ],
   "source": [
    "boys[boys.year == 2000]\n",
    "# the data seems to be already sorted by proportion"
   ]
  },
  {
   "cell_type": "code",
   "execution_count": 53,
   "metadata": {
    "collapsed": false
   },
   "outputs": [
    {
     "data": {
      "text/plain": [
       "year           2000\n",
       "name          Jacob\n",
       "prop       0.016514\n",
       "sex             boy\n",
       "soundex        J210\n",
       "Name: 120000, dtype: object"
      ]
     },
     "execution_count": 53,
     "metadata": {},
     "output_type": "execute_result"
    }
   ],
   "source": [
    "# Ignoring that, let's find the top boy name for 2000\n",
    "max_bname_idx = boys[boys.year == 2000].prop.idxmax()\n",
    "boys.ix[max_bname_idx]"
   ]
  },
  {
   "cell_type": "code",
   "execution_count": 64,
   "metadata": {
    "collapsed": false
   },
   "outputs": [
    {
     "data": {
      "text/plain": [
       "year           1880\n",
       "name           John\n",
       "prop       0.081541\n",
       "sex             boy\n",
       "soundex        J500\n",
       "Name: 0, dtype: object"
      ]
     },
     "execution_count": 64,
     "metadata": {},
     "output_type": "execute_result"
    }
   ],
   "source": [
    "#Let's find this for all years\n",
    "def top_bname(group):\n",
    "    return group.ix[group.prop.idxmax()]\n",
    "top_bname(boys)"
   ]
  },
  {
   "cell_type": "code",
   "execution_count": 303,
   "metadata": {
    "collapsed": false
   },
   "outputs": [
    {
     "name": "stdout",
     "output_type": "stream",
     "text": [
      "      year   name      prop  sex soundex  year_rank      normp\n",
      "year                                                          \n",
      "1880  1880   John  0.081541  boy    J500       1000  16.548082\n",
      "1881  1881   John  0.080975  boy    J500       1000  16.632642\n",
      "1882  1882   John  0.078314  boy    J500       1000  16.496476\n",
      "1883  1883   John  0.079066  boy    J500       1000  16.713289\n",
      "1884  1884   John  0.076476  boy    J500       1000  16.632968\n",
      "...    ...    ...       ...  ...     ...        ...        ...\n",
      "2004  2004  Jacob  0.013196  boy    J210       1000   7.533051\n",
      "2005  2005  Jacob  0.012148  boy    J210       1000   7.128861\n",
      "2006  2006  Jacob  0.011331  boy    J210       1000   6.857703\n",
      "2007  2007  Jacob  0.010948  boy    J210       1000   6.772114\n",
      "2008  2008  Jacob  0.010355  boy    J210       1000   6.572084\n",
      "\n",
      "[129 rows x 7 columns]\n"
     ]
    }
   ],
   "source": [
    "result = boys.groupby('year').apply(top_bname)\n",
    "print(result)"
   ]
  },
  {
   "cell_type": "code",
   "execution_count": 70,
   "metadata": {
    "collapsed": false
   },
   "outputs": [
    {
     "data": {
      "text/plain": [
       "<matplotlib.axes._subplots.AxesSubplot at 0x10a9d0c88>"
      ]
     },
     "execution_count": 70,
     "metadata": {},
     "output_type": "execute_result"
    },
    {
     "data": {
      "image/png": "[encoded data removed]",
      "text/plain": [
       "<matplotlib.figure.Figure at 0x110ebaa58>"
      ]
     },
     "metadata": {},
     "output_type": "display_data"
    }
   ],
   "source": [
    "result.prop.plot()  # proportion of max name over the years"
   ]
  },
  {
   "cell_type": "code",
   "execution_count": 76,
   "metadata": {
    "collapsed": false
   },
   "outputs": [
    {
     "data": {
      "text/plain": [
       "<matplotlib.axes._subplots.AxesSubplot at 0x1100d6fd0>"
      ]
     },
     "execution_count": 76,
     "metadata": {},
     "output_type": "execute_result"
    },
    {
     "data": {
      "image/png": "[encoded data removed]",
      "text/plain": [
       "<matplotlib.figure.Figure at 0x110ec5160>"
      ]
     },
     "metadata": {},
     "output_type": "display_data"
    }
   ],
   "source": [
    "boys[boys.name=='Travis'].prop.plot()"
   ]
  },
  {
   "cell_type": "code",
   "execution_count": 77,
   "metadata": {
    "collapsed": false
   },
   "outputs": [
    {
     "data": {
      "text/html": [
       "<div style=\"max-height:1000px;max-width:1500px;overflow:auto;\">\n",
       "<table border=\"1\" class=\"dataframe\">\n",
       "  <thead>\n",
       "    <tr style=\"text-align: right;\">\n",
       "      <th></th>\n",
       "      <th></th>\n",
       "      <th>prop</th>\n",
       "      <th>sex</th>\n",
       "      <th>soundex</th>\n",
       "    </tr>\n",
       "    <tr>\n",
       "      <th>name</th>\n",
       "      <th>year</th>\n",
       "      <th></th>\n",
       "      <th></th>\n",
       "      <th></th>\n",
       "    </tr>\n",
       "  </thead>\n",
       "  <tbody>\n",
       "    <tr>\n",
       "      <th>John</th>\n",
       "      <th>1880</th>\n",
       "      <td> 0.081541</td>\n",
       "      <td> boy</td>\n",
       "      <td> J500</td>\n",
       "    </tr>\n",
       "    <tr>\n",
       "      <th>William</th>\n",
       "      <th>1880</th>\n",
       "      <td> 0.080511</td>\n",
       "      <td> boy</td>\n",
       "      <td> W450</td>\n",
       "    </tr>\n",
       "    <tr>\n",
       "      <th>James</th>\n",
       "      <th>1880</th>\n",
       "      <td> 0.050057</td>\n",
       "      <td> boy</td>\n",
       "      <td> J520</td>\n",
       "    </tr>\n",
       "    <tr>\n",
       "      <th>Charles</th>\n",
       "      <th>1880</th>\n",
       "      <td> 0.045167</td>\n",
       "      <td> boy</td>\n",
       "      <td> C642</td>\n",
       "    </tr>\n",
       "    <tr>\n",
       "      <th>George</th>\n",
       "      <th>1880</th>\n",
       "      <td> 0.043292</td>\n",
       "      <td> boy</td>\n",
       "      <td> G620</td>\n",
       "    </tr>\n",
       "    <tr>\n",
       "      <th>...</th>\n",
       "      <th>...</th>\n",
       "      <td>...</td>\n",
       "      <td>...</td>\n",
       "      <td>...</td>\n",
       "    </tr>\n",
       "    <tr>\n",
       "      <th>Kolten</th>\n",
       "      <th>2008</th>\n",
       "      <td> 0.000090</td>\n",
       "      <td> boy</td>\n",
       "      <td> K435</td>\n",
       "    </tr>\n",
       "    <tr>\n",
       "      <th>Damari</th>\n",
       "      <th>2008</th>\n",
       "      <td> 0.000089</td>\n",
       "      <td> boy</td>\n",
       "      <td> D560</td>\n",
       "    </tr>\n",
       "    <tr>\n",
       "      <th>Hugh</th>\n",
       "      <th>2008</th>\n",
       "      <td> 0.000089</td>\n",
       "      <td> boy</td>\n",
       "      <td> H200</td>\n",
       "    </tr>\n",
       "    <tr>\n",
       "      <th>Jensen</th>\n",
       "      <th>2008</th>\n",
       "      <td> 0.000089</td>\n",
       "      <td> boy</td>\n",
       "      <td> J525</td>\n",
       "    </tr>\n",
       "    <tr>\n",
       "      <th>Yurem</th>\n",
       "      <th>2008</th>\n",
       "      <td> 0.000089</td>\n",
       "      <td> boy</td>\n",
       "      <td> Y650</td>\n",
       "    </tr>\n",
       "  </tbody>\n",
       "</table>\n",
       "<p>129000 rows × 3 columns</p>\n",
       "</div>"
      ],
      "text/plain": [
       "                  prop  sex soundex\n",
       "name    year                       \n",
       "John    1880  0.081541  boy    J500\n",
       "William 1880  0.080511  boy    W450\n",
       "James   1880  0.050057  boy    J520\n",
       "Charles 1880  0.045167  boy    C642\n",
       "George  1880  0.043292  boy    G620\n",
       "...                ...  ...     ...\n",
       "Kolten  2008  0.000090  boy    K435\n",
       "Damari  2008  0.000089  boy    D560\n",
       "Hugh    2008  0.000089  boy    H200\n",
       "Jensen  2008  0.000089  boy    J525\n",
       "Yurem   2008  0.000089  boy    Y650\n",
       "\n",
       "[129000 rows x 3 columns]"
      ]
     },
     "execution_count": 77,
     "metadata": {},
     "output_type": "execute_result"
    }
   ],
   "source": [
    "# Searching for each name like this would take a long time. \n",
    "# So create an index based on year and name\n",
    "idf = boys.set_index(['name','year'])\n",
    "idf"
   ]
  },
  {
   "cell_type": "code",
   "execution_count": 78,
   "metadata": {
    "collapsed": false
   },
   "outputs": [
    {
     "data": {
      "text/html": [
       "<div style=\"max-height:1000px;max-width:1500px;overflow:auto;\">\n",
       "<table border=\"1\" class=\"dataframe\">\n",
       "  <thead>\n",
       "    <tr style=\"text-align: right;\">\n",
       "      <th></th>\n",
       "      <th>prop</th>\n",
       "      <th>sex</th>\n",
       "      <th>soundex</th>\n",
       "    </tr>\n",
       "    <tr>\n",
       "      <th>year</th>\n",
       "      <th></th>\n",
       "      <th></th>\n",
       "      <th></th>\n",
       "    </tr>\n",
       "  </thead>\n",
       "  <tbody>\n",
       "    <tr>\n",
       "      <th>1880</th>\n",
       "      <td> 0.000101</td>\n",
       "      <td> boy</td>\n",
       "      <td> T612</td>\n",
       "    </tr>\n",
       "    <tr>\n",
       "      <th>1882</th>\n",
       "      <td> 0.000082</td>\n",
       "      <td> boy</td>\n",
       "      <td> T612</td>\n",
       "    </tr>\n",
       "    <tr>\n",
       "      <th>1883</th>\n",
       "      <td> 0.000080</td>\n",
       "      <td> boy</td>\n",
       "      <td> T612</td>\n",
       "    </tr>\n",
       "    <tr>\n",
       "      <th>1884</th>\n",
       "      <td> 0.000081</td>\n",
       "      <td> boy</td>\n",
       "      <td> T612</td>\n",
       "    </tr>\n",
       "    <tr>\n",
       "      <th>1885</th>\n",
       "      <td> 0.000095</td>\n",
       "      <td> boy</td>\n",
       "      <td> T612</td>\n",
       "    </tr>\n",
       "    <tr>\n",
       "      <th>...</th>\n",
       "      <td>...</td>\n",
       "      <td>...</td>\n",
       "      <td>...</td>\n",
       "    </tr>\n",
       "    <tr>\n",
       "      <th>2004</th>\n",
       "      <td> 0.001164</td>\n",
       "      <td> boy</td>\n",
       "      <td> T612</td>\n",
       "    </tr>\n",
       "    <tr>\n",
       "      <th>2005</th>\n",
       "      <td> 0.001114</td>\n",
       "      <td> boy</td>\n",
       "      <td> T612</td>\n",
       "    </tr>\n",
       "    <tr>\n",
       "      <th>2006</th>\n",
       "      <td> 0.001186</td>\n",
       "      <td> boy</td>\n",
       "      <td> T612</td>\n",
       "    </tr>\n",
       "    <tr>\n",
       "      <th>2007</th>\n",
       "      <td> 0.001087</td>\n",
       "      <td> boy</td>\n",
       "      <td> T612</td>\n",
       "    </tr>\n",
       "    <tr>\n",
       "      <th>2008</th>\n",
       "      <td> 0.001025</td>\n",
       "      <td> boy</td>\n",
       "      <td> T612</td>\n",
       "    </tr>\n",
       "  </tbody>\n",
       "</table>\n",
       "<p>125 rows × 3 columns</p>\n",
       "</div>"
      ],
      "text/plain": [
       "          prop  sex soundex\n",
       "year                       \n",
       "1880  0.000101  boy    T612\n",
       "1882  0.000082  boy    T612\n",
       "1883  0.000080  boy    T612\n",
       "1884  0.000081  boy    T612\n",
       "1885  0.000095  boy    T612\n",
       "...        ...  ...     ...\n",
       "2004  0.001164  boy    T612\n",
       "2005  0.001114  boy    T612\n",
       "2006  0.001186  boy    T612\n",
       "2007  0.001087  boy    T612\n",
       "2008  0.001025  boy    T612\n",
       "\n",
       "[125 rows x 3 columns]"
      ]
     },
     "execution_count": 78,
     "metadata": {},
     "output_type": "execute_result"
    }
   ],
   "source": [
    "idf.ix['Travis']"
   ]
  },
  {
   "cell_type": "code",
   "execution_count": 80,
   "metadata": {
    "collapsed": false
   },
   "outputs": [
    {
     "name": "stdout",
     "output_type": "stream",
     "text": [
      "100 loops, best of 3: 8 ms per loop\n"
     ]
    }
   ],
   "source": [
    "%timeit boys[boys.name == 'Travis']"
   ]
  },
  {
   "cell_type": "code",
   "execution_count": 81,
   "metadata": {
    "collapsed": false
   },
   "outputs": [
    {
     "name": "stdout",
     "output_type": "stream",
     "text": [
      "1000 loops, best of 3: 571 µs per loop\n"
     ]
    }
   ],
   "source": [
    "%timeit idf.ix['Travis']"
   ]
  },
  {
   "cell_type": "markdown",
   "metadata": {},
   "source": [
    "As we can see, indexing improves the performance tremendously"
   ]
  },
  {
   "cell_type": "code",
   "execution_count": 84,
   "metadata": {
    "collapsed": false
   },
   "outputs": [
    {
     "name": "stdout",
     "output_type": "stream",
     "text": [
      "prop       0.005808\n",
      "sex             boy\n",
      "soundex        T612\n",
      "Name: (Travis, 1980), dtype: object\n"
     ]
    },
    {
     "data": {
      "text/plain": [
       "<matplotlib.axes._subplots.AxesSubplot at 0x10a9a4470>"
      ]
     },
     "execution_count": 84,
     "metadata": {},
     "output_type": "execute_result"
    },
    {
     "data": {
      "image/png": "[encoded data removed]",
      "text/plain": [
       "<matplotlib.figure.Figure at 0x10a554860>"
      ]
     },
     "metadata": {},
     "output_type": "display_data"
    }
   ],
   "source": [
    "print(idf.ix['Travis',1980])\n",
    "idf.ix['Travis'].prop.plot()"
   ]
  },
  {
   "cell_type": "code",
   "execution_count": 188,
   "metadata": {
    "collapsed": false
   },
   "outputs": [
    {
     "name": "stdout",
     "output_type": "stream",
     "text": [
      "                prop  sex soundex\n",
      "name  year                       \n",
      "Aaden 2008  0.000442  boy    A350\n",
      "Aarav 2008  0.000101  boy    A610\n",
      "Aaron 1880  0.000861  boy    A650\n",
      "      1881  0.000868  boy    A650\n",
      "      1882  0.000697  boy    A650\n",
      "...              ...  ...     ...\n",
      "      1893  0.000669  boy    A650\n",
      "      1894  0.000632  boy    A650\n",
      "      1895  0.000742  boy    A650\n",
      "      1896  0.000535  boy    A650\n",
      "      1897  0.000713  boy    A650\n",
      "\n",
      "[20 rows x 3 columns]\n"
     ]
    },
    {
     "data": {
      "text/plain": [
       "<matplotlib.axes._subplots.AxesSubplot at 0x117077860>"
      ]
     },
     "execution_count": 188,
     "metadata": {},
     "output_type": "execute_result"
    },
    {
     "data": {
      "image/png": "[encoded data removed]",
      "text/plain": [
       "<matplotlib.figure.Figure at 0x11709c518>"
      ]
     },
     "metadata": {},
     "output_type": "display_data"
    }
   ],
   "source": [
    "# Another method to get the prop distribution\n",
    "name_sorted = boys.sort_index(by=['name','year'],ascending=True)\n",
    "inded = name_sorted.set_index(['name','year']) \n",
    "# If you only set the name as index, the plot will display the name on the x axis\n",
    "# because inded.ix['john'] will return a table with index 'john'\n",
    "# with ['name','year'], inded.ix['john'] will be a df with years as indexes\n",
    "print(inded[:20])\n",
    "inded.ix['John'].prop.plot()"
   ]
  },
  {
   "cell_type": "code",
   "execution_count": 87,
   "metadata": {
    "collapsed": false
   },
   "outputs": [
    {
     "data": {
      "text/plain": [
       "name\n",
       "Aaden    0.000442\n",
       "Aarav    0.000101\n",
       "Aaron    0.002266\n",
       "...\n",
       "Zigmund    0.000052\n",
       "Zion       0.000490\n",
       "Zollie     0.000060\n",
       "Name: prop, Length: 3437, dtype: float64"
      ]
     },
     "execution_count": 87,
     "metadata": {},
     "output_type": "execute_result"
    }
   ],
   "source": [
    "# to get name-wise prop aggregation\n",
    "namewise_prop = boys.groupby('name')['prop']\n",
    "namewise_prop.mean()"
   ]
  },
  {
   "cell_type": "code",
   "execution_count": 92,
   "metadata": {
    "collapsed": false
   },
   "outputs": [
    {
     "data": {
      "text/plain": [
       "name\n",
       "Kennard    0.000027\n",
       "Danniel    0.000027\n",
       "Deryl      0.000028\n",
       "...\n",
       "William    0.034182\n",
       "James      0.035465\n",
       "John       0.041082\n",
       "Name: prop, Length: 3437, dtype: float64"
      ]
     },
     "execution_count": 92,
     "metadata": {},
     "output_type": "execute_result"
    }
   ],
   "source": [
    "namewise_prop.mean().order()   # most famous boy names on average"
   ]
  },
  {
   "cell_type": "code",
   "execution_count": 94,
   "metadata": {
    "collapsed": false
   },
   "outputs": [
    {
     "data": {
      "text/plain": [
       "name\n",
       "Charles    0.019521\n",
       "Robert     0.029625\n",
       "William    0.034182\n",
       "James      0.035465\n",
       "John       0.041082\n",
       "Name: prop, dtype: float64"
      ]
     },
     "execution_count": 94,
     "metadata": {},
     "output_type": "execute_result"
    }
   ],
   "source": [
    "namewise_prop.mean().order().tail()"
   ]
  },
  {
   "cell_type": "code",
   "execution_count": 96,
   "metadata": {
    "collapsed": false
   },
   "outputs": [
    {
     "data": {
      "text/plain": [
       "count    129000.000000\n",
       "mean          0.000916\n",
       "std           0.003441\n",
       "min           0.000026\n",
       "25%           0.000071\n",
       "50%           0.000142\n",
       "75%           0.000453\n",
       "max           0.081541\n",
       "dtype: float64"
      ]
     },
     "execution_count": 96,
     "metadata": {},
     "output_type": "execute_result"
    }
   ],
   "source": [
    "boys['prop'].describe()  # Useful info about the column"
   ]
  },
  {
   "cell_type": "code",
   "execution_count": 103,
   "metadata": {
    "collapsed": false
   },
   "outputs": [],
   "source": [
    "summary = boys.groupby('name')['prop'].describe()"
   ]
  },
  {
   "cell_type": "code",
   "execution_count": 101,
   "metadata": {
    "collapsed": false
   },
   "outputs": [
    {
     "name": "stdout",
     "output_type": "stream",
     "text": [
      "count    1.000000\n",
      "mean     0.000442\n",
      "std           NaN\n",
      "min      0.000442\n",
      "25%      0.000442\n",
      "50%      0.000442\n",
      "75%      0.000442\n",
      "max      0.000442\n",
      "dtype: float64\n",
      "count    129.000000\n",
      "mean       0.041082\n",
      "std        0.020328\n",
      "min        0.006102\n",
      "25%        0.020822\n",
      "50%        0.045037\n",
      "75%        0.054678\n",
      "max        0.081541\n",
      "dtype: float64\n"
     ]
    }
   ],
   "source": [
    "print(summary.ix['Aaden'])\n",
    "print(summary.ix['John'])"
   ]
  },
  {
   "cell_type": "code",
   "execution_count": 112,
   "metadata": {
    "collapsed": false
   },
   "outputs": [
    {
     "data": {
      "text/plain": [
       "name        \n",
       "Aaden  count    1.000000\n",
       "       mean     0.000442\n",
       "       std           NaN\n",
       "       min      0.000442\n",
       "       25%      0.000442\n",
       "       50%      0.000442\n",
       "       75%      0.000442\n",
       "       max      0.000442\n",
       "Aarav  count    1.000000\n",
       "       mean     0.000101\n",
       "dtype: float64"
      ]
     },
     "execution_count": 112,
     "metadata": {},
     "output_type": "execute_result"
    }
   ],
   "source": [
    "summary[:10]"
   ]
  },
  {
   "cell_type": "code",
   "execution_count": 115,
   "metadata": {
    "collapsed": false
   },
   "outputs": [
    {
     "data": {
      "text/html": [
       "<div style=\"max-height:1000px;max-width:1500px;overflow:auto;\">\n",
       "<table border=\"1\" class=\"dataframe\">\n",
       "  <thead>\n",
       "    <tr style=\"text-align: right;\">\n",
       "      <th></th>\n",
       "      <th>year</th>\n",
       "      <th>name</th>\n",
       "      <th>prop</th>\n",
       "      <th>sex</th>\n",
       "      <th>soundex</th>\n",
       "    </tr>\n",
       "  </thead>\n",
       "  <tbody>\n",
       "    <tr>\n",
       "      <th>128000</th>\n",
       "      <td> 2008</td>\n",
       "      <td>   Jacob</td>\n",
       "      <td> 0.010355</td>\n",
       "      <td> boy</td>\n",
       "      <td> J210</td>\n",
       "    </tr>\n",
       "    <tr>\n",
       "      <th>128001</th>\n",
       "      <td> 2008</td>\n",
       "      <td> Michael</td>\n",
       "      <td> 0.009437</td>\n",
       "      <td> boy</td>\n",
       "      <td> M240</td>\n",
       "    </tr>\n",
       "    <tr>\n",
       "      <th>128002</th>\n",
       "      <td> 2008</td>\n",
       "      <td>   Ethan</td>\n",
       "      <td> 0.009301</td>\n",
       "      <td> boy</td>\n",
       "      <td> E350</td>\n",
       "    </tr>\n",
       "    <tr>\n",
       "      <th>128003</th>\n",
       "      <td> 2008</td>\n",
       "      <td>  Joshua</td>\n",
       "      <td> 0.008799</td>\n",
       "      <td> boy</td>\n",
       "      <td> J200</td>\n",
       "    </tr>\n",
       "    <tr>\n",
       "      <th>128004</th>\n",
       "      <td> 2008</td>\n",
       "      <td>  Daniel</td>\n",
       "      <td> 0.008702</td>\n",
       "      <td> boy</td>\n",
       "      <td> D540</td>\n",
       "    </tr>\n",
       "    <tr>\n",
       "      <th>...</th>\n",
       "      <td>...</td>\n",
       "      <td>...</td>\n",
       "      <td>...</td>\n",
       "      <td>...</td>\n",
       "      <td>...</td>\n",
       "    </tr>\n",
       "    <tr>\n",
       "      <th>128995</th>\n",
       "      <td> 2008</td>\n",
       "      <td>  Kolten</td>\n",
       "      <td> 0.000090</td>\n",
       "      <td> boy</td>\n",
       "      <td> K435</td>\n",
       "    </tr>\n",
       "    <tr>\n",
       "      <th>128996</th>\n",
       "      <td> 2008</td>\n",
       "      <td>  Damari</td>\n",
       "      <td> 0.000089</td>\n",
       "      <td> boy</td>\n",
       "      <td> D560</td>\n",
       "    </tr>\n",
       "    <tr>\n",
       "      <th>128997</th>\n",
       "      <td> 2008</td>\n",
       "      <td>    Hugh</td>\n",
       "      <td> 0.000089</td>\n",
       "      <td> boy</td>\n",
       "      <td> H200</td>\n",
       "    </tr>\n",
       "    <tr>\n",
       "      <th>128998</th>\n",
       "      <td> 2008</td>\n",
       "      <td>  Jensen</td>\n",
       "      <td> 0.000089</td>\n",
       "      <td> boy</td>\n",
       "      <td> J525</td>\n",
       "    </tr>\n",
       "    <tr>\n",
       "      <th>128999</th>\n",
       "      <td> 2008</td>\n",
       "      <td>   Yurem</td>\n",
       "      <td> 0.000089</td>\n",
       "      <td> boy</td>\n",
       "      <td> Y650</td>\n",
       "    </tr>\n",
       "  </tbody>\n",
       "</table>\n",
       "<p>1000 rows × 5 columns</p>\n",
       "</div>"
      ],
      "text/plain": [
       "        year     name      prop  sex soundex\n",
       "128000  2008    Jacob  0.010355  boy    J210\n",
       "128001  2008  Michael  0.009437  boy    M240\n",
       "128002  2008    Ethan  0.009301  boy    E350\n",
       "128003  2008   Joshua  0.008799  boy    J200\n",
       "128004  2008   Daniel  0.008702  boy    D540\n",
       "...      ...      ...       ...  ...     ...\n",
       "128995  2008   Kolten  0.000090  boy    K435\n",
       "128996  2008   Damari  0.000089  boy    D560\n",
       "128997  2008     Hugh  0.000089  boy    H200\n",
       "128998  2008   Jensen  0.000089  boy    J525\n",
       "128999  2008    Yurem  0.000089  boy    Y650\n",
       "\n",
       "[1000 rows x 5 columns]"
      ]
     },
     "execution_count": 115,
     "metadata": {},
     "output_type": "execute_result"
    }
   ],
   "source": [
    "# Sorting based on an index\n",
    "df = boys[boys.year == 2008].sort_index(by='prop',ascending=False)\n",
    "df"
   ]
  },
  {
   "cell_type": "code",
   "execution_count": 117,
   "metadata": {
    "collapsed": false
   },
   "outputs": [
    {
     "data": {
      "text/plain": [
       "128000    0.010355\n",
       "128001    0.009437\n",
       "128002    0.009301\n",
       "...\n",
       "128997    0.000089\n",
       "128998    0.000089\n",
       "128999    0.000089\n",
       "Name: prop, Length: 1000, dtype: float64"
      ]
     },
     "execution_count": 117,
     "metadata": {},
     "output_type": "execute_result"
    }
   ],
   "source": [
    "df.prop"
   ]
  },
  {
   "cell_type": "code",
   "execution_count": 126,
   "metadata": {
    "collapsed": false
   },
   "outputs": [
    {
     "data": {
      "text/plain": [
       "128999    0.795414\n",
       "Name: prop, dtype: float64"
      ]
     },
     "execution_count": 126,
     "metadata": {},
     "output_type": "execute_result"
    }
   ],
   "source": [
    "df.prop.cumsum()[-1:]  # Top 1000 names represent ~80% of total"
   ]
  },
  {
   "cell_type": "code",
   "execution_count": 129,
   "metadata": {
    "collapsed": false
   },
   "outputs": [
    {
     "data": {
      "text/plain": [
       "127"
      ]
     },
     "execution_count": 129,
     "metadata": {},
     "output_type": "execute_result"
    }
   ],
   "source": [
    "# How many top names constitute 50% of total?\n",
    "# df.prop.cumsum().searchsorted(0.5) will not work because Series now\n",
    "# subclasses NDFrame. To convert to numpy array, use values\n",
    "df.prop.cumsum().values.searchsorted(0.5)"
   ]
  },
  {
   "cell_type": "code",
   "execution_count": 133,
   "metadata": {
    "collapsed": false
   },
   "outputs": [
    {
     "data": {
      "text/plain": [
       "128000    0.010355\n",
       "128001    0.019792\n",
       "128002    0.029093\n",
       "...\n",
       "128125    0.497718\n",
       "128126    0.499243\n",
       "128127    0.500748\n",
       "Name: prop, Length: 128, dtype: float64"
      ]
     },
     "execution_count": 133,
     "metadata": {},
     "output_type": "execute_result"
    }
   ],
   "source": [
    "# To verify that the top 127 names make up 50%\n",
    "df.prop.cumsum()[:128]"
   ]
  },
  {
   "cell_type": "code",
   "execution_count": 139,
   "metadata": {
    "collapsed": false
   },
   "outputs": [
    {
     "data": {
      "text/html": [
       "<div style=\"max-height:1000px;max-width:1500px;overflow:auto;\">\n",
       "<table border=\"1\" class=\"dataframe\">\n",
       "  <thead>\n",
       "    <tr style=\"text-align: right;\">\n",
       "      <th></th>\n",
       "      <th>year</th>\n",
       "      <th>name</th>\n",
       "      <th>prop</th>\n",
       "      <th>sex</th>\n",
       "      <th>soundex</th>\n",
       "    </tr>\n",
       "  </thead>\n",
       "  <tbody>\n",
       "    <tr>\n",
       "      <th>0</th>\n",
       "      <td> 1880</td>\n",
       "      <td>    John</td>\n",
       "      <td> 0.081541</td>\n",
       "      <td> boy</td>\n",
       "      <td> J500</td>\n",
       "    </tr>\n",
       "    <tr>\n",
       "      <th>1</th>\n",
       "      <td> 1880</td>\n",
       "      <td> William</td>\n",
       "      <td> 0.080511</td>\n",
       "      <td> boy</td>\n",
       "      <td> W450</td>\n",
       "    </tr>\n",
       "    <tr>\n",
       "      <th>2</th>\n",
       "      <td> 1880</td>\n",
       "      <td>   James</td>\n",
       "      <td> 0.050057</td>\n",
       "      <td> boy</td>\n",
       "      <td> J520</td>\n",
       "    </tr>\n",
       "    <tr>\n",
       "      <th>3</th>\n",
       "      <td> 1880</td>\n",
       "      <td> Charles</td>\n",
       "      <td> 0.045167</td>\n",
       "      <td> boy</td>\n",
       "      <td> C642</td>\n",
       "    </tr>\n",
       "    <tr>\n",
       "      <th>4</th>\n",
       "      <td> 1880</td>\n",
       "      <td>  George</td>\n",
       "      <td> 0.043292</td>\n",
       "      <td> boy</td>\n",
       "      <td> G620</td>\n",
       "    </tr>\n",
       "  </tbody>\n",
       "</table>\n",
       "</div>"
      ],
      "text/plain": [
       "   year     name      prop  sex soundex\n",
       "0  1880     John  0.081541  boy    J500\n",
       "1  1880  William  0.080511  boy    W450\n",
       "2  1880    James  0.050057  boy    J520\n",
       "3  1880  Charles  0.045167  boy    C642\n",
       "4  1880   George  0.043292  boy    G620"
      ]
     },
     "execution_count": 139,
     "metadata": {},
     "output_type": "execute_result"
    }
   ],
   "source": [
    "bprop1880 = boys[boys.year == 1880].sort_index(by='prop',ascending=False)\n",
    "bprop1880.head()"
   ]
  },
  {
   "cell_type": "code",
   "execution_count": 142,
   "metadata": {
    "collapsed": false
   },
   "outputs": [
    {
     "data": {
      "text/plain": [
       "0    0.081541\n",
       "1    0.162052\n",
       "2    0.212109\n",
       "...\n",
       "934    0.930662\n",
       "933    0.930704\n",
       "999    0.930746\n",
       "Name: prop, Length: 1000, dtype: float64"
      ]
     },
     "execution_count": 142,
     "metadata": {},
     "output_type": "execute_result"
    }
   ],
   "source": [
    "# bprop1880.cumsum() would give string concatenation for string fields, resulting in super long strings.\n",
    "bprop1880.prop.cumsum()"
   ]
  },
  {
   "cell_type": "code",
   "execution_count": 145,
   "metadata": {
    "collapsed": false
   },
   "outputs": [
    {
     "data": {
      "text/plain": [
       "15"
      ]
     },
     "execution_count": 145,
     "metadata": {},
     "output_type": "execute_result"
    }
   ],
   "source": [
    "bprop1880.prop.cumsum().values.searchsorted(0.5)"
   ]
  },
  {
   "cell_type": "markdown",
   "metadata": {},
   "source": [
    "Top 15 names already covered 50% of the entire distribution in 1880\n",
    "Let's see how this changed over the years as people got creative"
   ]
  },
  {
   "cell_type": "code",
   "execution_count": 152,
   "metadata": {
    "collapsed": false
   },
   "outputs": [
    {
     "data": {
      "text/plain": [
       "year\n",
       "1880    15\n",
       "1881    15\n",
       "1882    17\n",
       "...\n",
       "2006    115\n",
       "2007    120\n",
       "2008    127\n",
       "Length: 129, dtype: int64"
      ]
     },
     "execution_count": 152,
     "metadata": {},
     "output_type": "execute_result"
    }
   ],
   "source": [
    "def get_quantile_count(group, quantile=0.5):\n",
    "    sorted = group.sort_index(by='prop',ascending=False)\n",
    "    return sorted.prop.cumsum().values.searchsorted(quantile)\n",
    "#get_quantile_count(boys[boys.year==1880])\n",
    "#get_quantile_count(boys[boys.year==2008])\n",
    "boys.groupby('year').apply(get_quantile_count)"
   ]
  },
  {
   "cell_type": "code",
   "execution_count": 154,
   "metadata": {
    "collapsed": false
   },
   "outputs": [],
   "source": [
    "boys_count = boys.groupby('year').apply(get_quantile_count)\n",
    "girls_count = girls.groupby('year').apply(get_quantile_count)"
   ]
  },
  {
   "cell_type": "code",
   "execution_count": 161,
   "metadata": {
    "collapsed": false
   },
   "outputs": [
    {
     "data": {
      "text/plain": [
       "<matplotlib.legend.Legend at 0x114aec6d8>"
      ]
     },
     "execution_count": 161,
     "metadata": {},
     "output_type": "execute_result"
    },
    {
     "data": {
      "image/png": "[encoded data removed]",
      "text/plain": [
       "<matplotlib.figure.Figure at 0x114aec5c0>"
      ]
     },
     "metadata": {},
     "output_type": "display_data"
    }
   ],
   "source": [
    "boys_count.plot(label='boys')\n",
    "girls_count.plot(label='boys')\n",
    "plt.legend(loc='best')"
   ]
  },
  {
   "cell_type": "code",
   "execution_count": 189,
   "metadata": {
    "collapsed": false,
    "scrolled": true
   },
   "outputs": [
    {
     "data": {
      "text/plain": [
       "<matplotlib.axes._subplots.AxesSubplot at 0x118e8fd30>"
      ]
     },
     "execution_count": 189,
     "metadata": {},
     "output_type": "execute_result"
    },
    {
     "data": {
      "image/png": "[encoded data removed]",
      "text/plain": [
       "<matplotlib.figure.Figure at 0x118ea5710>"
      ]
     },
     "metadata": {},
     "output_type": "display_data"
    }
   ],
   "source": [
    "# Changing the value of the parameter quantile while calling get_quantile_count\n",
    "f = lambda x: get_quantile_count(x,0.1)\n",
    "# apply f\n",
    "boys_count_1 = boys.groupby('year').apply(f)\n",
    "boys_count_1.plot()\n",
    "#OR\n",
    "boys_count_2 = boys.groupby('year').apply(get_quantile_count,quantile=0.1)\n",
    "boys_count_2.plot()\n",
    "\n",
    "# Same plot, hence only one line visible"
   ]
  },
  {
   "cell_type": "markdown",
   "metadata": {},
   "source": [
    "###Finding the rank of a name throughout the years"
   ]
  },
  {
   "cell_type": "code",
   "execution_count": 193,
   "metadata": {
    "collapsed": false
   },
   "outputs": [
    {
     "name": "stdout",
     "output_type": "stream",
     "text": [
      "128000    0.010355\n",
      "128001    0.009437\n",
      "128002    0.009301\n",
      "...\n",
      "128997    0.000089\n",
      "128998    0.000089\n",
      "128999    0.000089\n",
      "Name: prop, Length: 1000, dtype: float64\n"
     ]
    },
    {
     "data": {
      "text/plain": [
       "128000    1000\n",
       "128001     999\n",
       "128002     998\n",
       "...\n",
       "128997    2.5\n",
       "128998    2.5\n",
       "128999    2.5\n",
       "Name: prop, Length: 1000, dtype: float64"
      ]
     },
     "execution_count": 193,
     "metadata": {},
     "output_type": "execute_result"
    }
   ],
   "source": [
    "print(boys[boys.year == 2008].prop)\n",
    "boys[boys.year == 2008].prop.rank()"
   ]
  },
  {
   "cell_type": "code",
   "execution_count": 206,
   "metadata": {
    "collapsed": false
   },
   "outputs": [],
   "source": [
    "grouped = boys.groupby('year')"
   ]
  },
  {
   "cell_type": "code",
   "execution_count": 208,
   "metadata": {
    "collapsed": false
   },
   "outputs": [
    {
     "data": {
      "text/plain": [
       "0    0.081541\n",
       "1    0.080511\n",
       "2    0.050057\n",
       "...\n",
       "128002    0.009301\n",
       "128003    0.008799\n",
       "128004    0.008702\n",
       "Name: prop, Length: 645, dtype: float64"
      ]
     },
     "execution_count": 208,
     "metadata": {},
     "output_type": "execute_result"
    }
   ],
   "source": [
    "grouped.prop.head()"
   ]
  },
  {
   "cell_type": "code",
   "execution_count": 247,
   "metadata": {
    "collapsed": false
   },
   "outputs": [
    {
     "data": {
      "text/plain": [
       "995    0.000042\n",
       "996    0.000042\n",
       "997    0.000042\n",
       "...\n",
       "128997    0.000089\n",
       "128998    0.000089\n",
       "128999    0.000089\n",
       "Name: prop, Length: 645, dtype: float64"
      ]
     },
     "execution_count": 247,
     "metadata": {},
     "output_type": "execute_result"
    }
   ],
   "source": [
    "p = grouped['prop']  # Both methods work for getting a column\n",
    "p.tail()"
   ]
  },
  {
   "cell_type": "code",
   "execution_count": 252,
   "metadata": {
    "collapsed": false
   },
   "outputs": [
    {
     "data": {
      "text/plain": [
       "0    1000\n",
       "1     999\n",
       "2     998\n",
       "...\n",
       "128997    2.5\n",
       "128998    2.5\n",
       "128999    2.5\n",
       "Name: prop, Length: 129000, dtype: float64"
      ]
     },
     "execution_count": 252,
     "metadata": {},
     "output_type": "execute_result"
    }
   ],
   "source": [
    "p.transform(Series.rank)"
   ]
  },
  {
   "cell_type": "markdown",
   "metadata": {},
   "source": [
    "We transformed the Series prop into a rank Series. Why are not using apply because **apply** gives one output **per group** and transform returns a result with as many records as input.  \n",
    "Check comments here.  \n",
    "http://stackoverflow.com/questions/17950835/pandas-dataframe-filtering-using-groupby-and-a-function"
   ]
  },
  {
   "cell_type": "code",
   "execution_count": 219,
   "metadata": {
    "collapsed": false
   },
   "outputs": [
    {
     "name": "stderr",
     "output_type": "stream",
     "text": [
      "/Users/aswinrajkumar/anaconda/lib/python3.4/site-packages/IPython/kernel/__main__.py:1: SettingWithCopyWarning: A value is trying to be set on a copy of a slice from a DataFrame.\n",
      "Try using .loc[row_index,col_indexer] = value instead\n",
      "  if __name__ == '__main__':\n"
     ]
    },
    {
     "data": {
      "text/html": [
       "<div style=\"max-height:1000px;max-width:1500px;overflow:auto;\">\n",
       "<table border=\"1\" class=\"dataframe\">\n",
       "  <thead>\n",
       "    <tr style=\"text-align: right;\">\n",
       "      <th></th>\n",
       "      <th>year</th>\n",
       "      <th>name</th>\n",
       "      <th>prop</th>\n",
       "      <th>sex</th>\n",
       "      <th>soundex</th>\n",
       "      <th>year_rank</th>\n",
       "    </tr>\n",
       "  </thead>\n",
       "  <tbody>\n",
       "    <tr>\n",
       "      <th>0     </th>\n",
       "      <td> 1880</td>\n",
       "      <td>    John</td>\n",
       "      <td> 0.081541</td>\n",
       "      <td> boy</td>\n",
       "      <td> J500</td>\n",
       "      <td> 1000.0</td>\n",
       "    </tr>\n",
       "    <tr>\n",
       "      <th>1     </th>\n",
       "      <td> 1880</td>\n",
       "      <td> William</td>\n",
       "      <td> 0.080511</td>\n",
       "      <td> boy</td>\n",
       "      <td> W450</td>\n",
       "      <td>  999.0</td>\n",
       "    </tr>\n",
       "    <tr>\n",
       "      <th>2     </th>\n",
       "      <td> 1880</td>\n",
       "      <td>   James</td>\n",
       "      <td> 0.050057</td>\n",
       "      <td> boy</td>\n",
       "      <td> J520</td>\n",
       "      <td>  998.0</td>\n",
       "    </tr>\n",
       "    <tr>\n",
       "      <th>3     </th>\n",
       "      <td> 1880</td>\n",
       "      <td> Charles</td>\n",
       "      <td> 0.045167</td>\n",
       "      <td> boy</td>\n",
       "      <td> C642</td>\n",
       "      <td>  997.0</td>\n",
       "    </tr>\n",
       "    <tr>\n",
       "      <th>4     </th>\n",
       "      <td> 1880</td>\n",
       "      <td>  George</td>\n",
       "      <td> 0.043292</td>\n",
       "      <td> boy</td>\n",
       "      <td> G620</td>\n",
       "      <td>  996.0</td>\n",
       "    </tr>\n",
       "    <tr>\n",
       "      <th>...</th>\n",
       "      <td>...</td>\n",
       "      <td>...</td>\n",
       "      <td>...</td>\n",
       "      <td>...</td>\n",
       "      <td>...</td>\n",
       "      <td>...</td>\n",
       "    </tr>\n",
       "    <tr>\n",
       "      <th>128995</th>\n",
       "      <td> 2008</td>\n",
       "      <td>  Kolten</td>\n",
       "      <td> 0.000090</td>\n",
       "      <td> boy</td>\n",
       "      <td> K435</td>\n",
       "      <td>    7.5</td>\n",
       "    </tr>\n",
       "    <tr>\n",
       "      <th>128996</th>\n",
       "      <td> 2008</td>\n",
       "      <td>  Damari</td>\n",
       "      <td> 0.000089</td>\n",
       "      <td> boy</td>\n",
       "      <td> D560</td>\n",
       "      <td>    2.5</td>\n",
       "    </tr>\n",
       "    <tr>\n",
       "      <th>128997</th>\n",
       "      <td> 2008</td>\n",
       "      <td>    Hugh</td>\n",
       "      <td> 0.000089</td>\n",
       "      <td> boy</td>\n",
       "      <td> H200</td>\n",
       "      <td>    2.5</td>\n",
       "    </tr>\n",
       "    <tr>\n",
       "      <th>128998</th>\n",
       "      <td> 2008</td>\n",
       "      <td>  Jensen</td>\n",
       "      <td> 0.000089</td>\n",
       "      <td> boy</td>\n",
       "      <td> J525</td>\n",
       "      <td>    2.5</td>\n",
       "    </tr>\n",
       "    <tr>\n",
       "      <th>128999</th>\n",
       "      <td> 2008</td>\n",
       "      <td>   Yurem</td>\n",
       "      <td> 0.000089</td>\n",
       "      <td> boy</td>\n",
       "      <td> Y650</td>\n",
       "      <td>    2.5</td>\n",
       "    </tr>\n",
       "  </tbody>\n",
       "</table>\n",
       "<p>129000 rows × 6 columns</p>\n",
       "</div>"
      ],
      "text/plain": [
       "        year     name      prop  sex soundex  year_rank\n",
       "0       1880     John  0.081541  boy    J500     1000.0\n",
       "1       1880  William  0.080511  boy    W450      999.0\n",
       "2       1880    James  0.050057  boy    J520      998.0\n",
       "3       1880  Charles  0.045167  boy    C642      997.0\n",
       "4       1880   George  0.043292  boy    G620      996.0\n",
       "...      ...      ...       ...  ...     ...        ...\n",
       "128995  2008   Kolten  0.000090  boy    K435        7.5\n",
       "128996  2008   Damari  0.000089  boy    D560        2.5\n",
       "128997  2008     Hugh  0.000089  boy    H200        2.5\n",
       "128998  2008   Jensen  0.000089  boy    J525        2.5\n",
       "128999  2008    Yurem  0.000089  boy    Y650        2.5\n",
       "\n",
       "[129000 rows x 6 columns]"
      ]
     },
     "execution_count": 219,
     "metadata": {},
     "output_type": "execute_result"
    }
   ],
   "source": [
    "boys['year_rank'] = p.transform(Series.rank)\n",
    "boys"
   ]
  },
  {
   "cell_type": "code",
   "execution_count": 222,
   "metadata": {
    "collapsed": false
   },
   "outputs": [
    {
     "name": "stdout",
     "output_type": "stream",
     "text": [
      "<class 'pandas.core.frame.DataFrame'>\n",
      "Int64Index: 129000 entries, 0 to 128999\n",
      "Data columns (total 6 columns):\n",
      "year         129000 non-null int64\n",
      "name         129000 non-null object\n",
      "prop         129000 non-null float64\n",
      "sex          129000 non-null object\n",
      "soundex      129000 non-null object\n",
      "year_rank    129000 non-null float64\n",
      "dtypes: float64(2), int64(1), object(3)"
     ]
    }
   ],
   "source": [
    "boys.info()"
   ]
  },
  {
   "cell_type": "code",
   "execution_count": 228,
   "metadata": {
    "collapsed": false
   },
   "outputs": [
    {
     "data": {
      "text/plain": [
       "<matplotlib.axes._subplots.AxesSubplot at 0x11528a128>"
      ]
     },
     "execution_count": 228,
     "metadata": {},
     "output_type": "execute_result"
    },
    {
     "data": {
      "image/png": "[encoded data removed]",
      "text/plain": [
       "<matplotlib.figure.Figure at 0x1152a9a90>"
      ]
     },
     "metadata": {},
     "output_type": "display_data"
    }
   ],
   "source": [
    "idf = boys.set_index(['name','year'])\n",
    "idf.ix['Wesley'].year_rank.plot()\n",
    "# You can also use matplotlib to explicitly specify the X and Y axis"
   ]
  },
  {
   "cell_type": "code",
   "execution_count": 255,
   "metadata": {
    "collapsed": false
   },
   "outputs": [
    {
     "name": "stdout",
     "output_type": "stream",
     "text": [
      "0    0.081541\n",
      "1    0.080511\n",
      "2    0.050057\n",
      "...\n",
      "128002    0.009301\n",
      "128003    0.008799\n",
      "128004    0.008702\n",
      "Name: prop, Length: 645, dtype: float64\n"
     ]
    },
    {
     "data": {
      "text/plain": [
       "0    0.163082\n",
       "1    0.161022\n",
       "2    0.100114\n",
       "...\n",
       "128997    0.000178\n",
       "128998    0.000178\n",
       "128999    0.000178\n",
       "Name: prop, Length: 129000, dtype: float64"
      ]
     },
     "execution_count": 255,
     "metadata": {},
     "output_type": "execute_result"
    }
   ],
   "source": [
    "print(p.head())\n",
    "p.transform(lambda x:x*2)"
   ]
  },
  {
   "cell_type": "code",
   "execution_count": 264,
   "metadata": {
    "collapsed": false
   },
   "outputs": [
    {
     "data": {
      "text/plain": [
       "count    1000.000000\n",
       "mean        0.000931\n",
       "std         0.004871\n",
       "min         0.000042\n",
       "25%         0.000059\n",
       "50%         0.000118\n",
       "75%         0.000372\n",
       "max         0.081541\n",
       "dtype: float64"
      ]
     },
     "execution_count": 264,
     "metadata": {},
     "output_type": "execute_result"
    }
   ],
   "source": [
    "p.get_group(1880).describe()   # Accessing a single group"
   ]
  },
  {
   "cell_type": "code",
   "execution_count": 286,
   "metadata": {
    "collapsed": false
   },
   "outputs": [
    {
     "ename": "SyntaxError",
     "evalue": "invalid syntax (<ipython-input-286-6f71bb447269>, line 4)",
     "output_type": "error",
     "traceback": [
      "\u001b[0;36m  File \u001b[0;32m\"<ipython-input-286-6f71bb447269>\"\u001b[0;36m, line \u001b[0;32m4\u001b[0m\n\u001b[0;31m    normp\u001b[0m\n\u001b[0m        ^\u001b[0m\n\u001b[0;31mSyntaxError\u001b[0m\u001b[0;31m:\u001b[0m invalid syntax\n"
     ]
    }
   ],
   "source": [
    "normp = p.transform(lambda x: (x - x.mean()) / x.std()) # x.mean() will be applied to the whole group\n",
    "# So this will center the values around the mean and divide by standard deviation.\n",
    "# Good for normalization. But probably meaningless in this context\n",
    "normp"
   ]
  },
  {
   "cell_type": "code",
   "execution_count": 281,
   "metadata": {
    "collapsed": false
   },
   "outputs": [
    {
     "name": "stderr",
     "output_type": "stream",
     "text": [
      "/Users/aswinrajkumar/anaconda/lib/python3.4/site-packages/IPython/kernel/__main__.py:1: SettingWithCopyWarning: A value is trying to be set on a copy of a slice from a DataFrame.\n",
      "Try using .loc[row_index,col_indexer] = value instead\n",
      "  if __name__ == '__main__':\n"
     ]
    },
    {
     "data": {
      "text/plain": [
       "<matplotlib.axes._subplots.AxesSubplot at 0x118f41588>"
      ]
     },
     "execution_count": 281,
     "metadata": {},
     "output_type": "execute_result"
    },
    {
     "data": {
      "image/png": "[encoded data removed]",
      "text/plain": [
       "<matplotlib.figure.Figure at 0x118f3de10>"
      ]
     },
     "metadata": {},
     "output_type": "display_data"
    }
   ],
   "source": [
    "boys['normp'] = normp\n",
    "boys[boys.year == 1880].normp.plot()"
   ]
  },
  {
   "cell_type": "code",
   "execution_count": 290,
   "metadata": {
    "collapsed": false
   },
   "outputs": [
    {
     "data": {
      "text/plain": [
       "year\n",
       "1880    3.936851e-16\n",
       "1881    4.249934e-16\n",
       "1882   -9.131584e-17\n",
       "...\n",
       "2006   -4.678480e-16\n",
       "2007    8.293366e-17\n",
       "2008   -5.273559e-17\n",
       "Name: prop, Length: 129, dtype: float64"
      ]
     },
     "execution_count": 290,
     "metadata": {},
     "output_type": "execute_result"
    }
   ],
   "source": [
    "normp.groupby(boys.year).mean() # Normp has no index, so you use\n",
    "# boys.year to group by normp. Cool!\n",
    "# Means should be zero. Why such small values though?"
   ]
  },
  {
   "cell_type": "code",
   "execution_count": 299,
   "metadata": {
    "collapsed": false
   },
   "outputs": [
    {
     "data": {
      "text/plain": [
       "0    16.548082\n",
       "1    16.336638\n",
       "2    10.084887\n",
       "...\n",
       "128997   -0.48565\n",
       "128998   -0.48565\n",
       "128999   -0.48565\n",
       "Length: 129000, dtype: float64"
      ]
     },
     "execution_count": 299,
     "metadata": {},
     "output_type": "execute_result"
    }
   ],
   "source": [
    "result = p.apply(lambda x: (x-x.mean())/x.std())\n",
    "result"
   ]
  },
  {
   "cell_type": "code",
   "execution_count": 319,
   "metadata": {
    "collapsed": false
   },
   "outputs": [
    {
     "data": {
      "text/plain": [
       "year\n",
       "1880    0.000000e+00\n",
       "1881   -1.421085e-17\n",
       "1882   -2.842171e-17\n",
       "...\n",
       "2006   -2.842171e-17\n",
       "2007    5.684342e-17\n",
       "2008    5.684342e-17\n",
       "Length: 129, dtype: float64"
      ]
     },
     "execution_count": 319,
     "metadata": {},
     "output_type": "execute_result"
    }
   ],
   "source": [
    "pvals = boys.groupby('year').get_group(1880)['prop']\n",
    "pvals - pvals.mean()\n",
    "pvals.std()\n",
    "def normp_mean(group):\n",
    "    pvals = group['prop']\n",
    "    return ((pvals - pvals.mean())/pvals.std()).mean()\n",
    "boys.groupby('year').apply(normp_mean)"
   ]
  },
  {
   "cell_type": "markdown",
   "metadata": {},
   "source": [
    "***Learn difference between apply and transform***"
   ]
  },
  {
   "cell_type": "code",
   "execution_count": 322,
   "metadata": {
    "collapsed": false
   },
   "outputs": [
    {
     "data": {
      "text/html": [
       "<div style=\"max-height:1000px;max-width:1500px;overflow:auto;\">\n",
       "<table border=\"1\" class=\"dataframe\">\n",
       "  <thead>\n",
       "    <tr style=\"text-align: right;\">\n",
       "      <th></th>\n",
       "      <th>year</th>\n",
       "      <th>sex</th>\n",
       "      <th>births</th>\n",
       "    </tr>\n",
       "  </thead>\n",
       "  <tbody>\n",
       "    <tr>\n",
       "      <th>0  </th>\n",
       "      <td> 1880</td>\n",
       "      <td>  boy</td>\n",
       "      <td>  118405</td>\n",
       "    </tr>\n",
       "    <tr>\n",
       "      <th>1  </th>\n",
       "      <td> 1881</td>\n",
       "      <td>  boy</td>\n",
       "      <td>  108290</td>\n",
       "    </tr>\n",
       "    <tr>\n",
       "      <th>2  </th>\n",
       "      <td> 1882</td>\n",
       "      <td>  boy</td>\n",
       "      <td>  122034</td>\n",
       "    </tr>\n",
       "    <tr>\n",
       "      <th>3  </th>\n",
       "      <td> 1883</td>\n",
       "      <td>  boy</td>\n",
       "      <td>  112487</td>\n",
       "    </tr>\n",
       "    <tr>\n",
       "      <th>4  </th>\n",
       "      <td> 1884</td>\n",
       "      <td>  boy</td>\n",
       "      <td>  122745</td>\n",
       "    </tr>\n",
       "    <tr>\n",
       "      <th>...</th>\n",
       "      <td>...</td>\n",
       "      <td>...</td>\n",
       "      <td>...</td>\n",
       "    </tr>\n",
       "    <tr>\n",
       "      <th>255</th>\n",
       "      <td> 2005</td>\n",
       "      <td> girl</td>\n",
       "      <td> 2024636</td>\n",
       "    </tr>\n",
       "    <tr>\n",
       "      <th>256</th>\n",
       "      <td> 2006</td>\n",
       "      <td> girl</td>\n",
       "      <td> 2084511</td>\n",
       "    </tr>\n",
       "    <tr>\n",
       "      <th>257</th>\n",
       "      <td> 2007</td>\n",
       "      <td> girl</td>\n",
       "      <td> 2109099</td>\n",
       "    </tr>\n",
       "    <tr>\n",
       "      <th>258</th>\n",
       "      <td> 2008</td>\n",
       "      <td> girl</td>\n",
       "      <td> 2072756</td>\n",
       "    </tr>\n",
       "    <tr>\n",
       "      <th>259</th>\n",
       "      <td> 2009</td>\n",
       "      <td> girl</td>\n",
       "      <td> 2001968</td>\n",
       "    </tr>\n",
       "  </tbody>\n",
       "</table>\n",
       "<p>260 rows × 3 columns</p>\n",
       "</div>"
      ],
      "text/plain": [
       "     year   sex   births\n",
       "0    1880   boy   118405\n",
       "1    1881   boy   108290\n",
       "2    1882   boy   122034\n",
       "3    1883   boy   112487\n",
       "4    1884   boy   122745\n",
       "..    ...   ...      ...\n",
       "255  2005  girl  2024636\n",
       "256  2006  girl  2084511\n",
       "257  2007  girl  2109099\n",
       "258  2008  girl  2072756\n",
       "259  2009  girl  2001968\n",
       "\n",
       "[260 rows x 3 columns]"
      ]
     },
     "execution_count": 322,
     "metadata": {},
     "output_type": "execute_result"
    }
   ],
   "source": [
    "births = read_csv('data/births.csv')\n",
    "births"
   ]
  },
  {
   "cell_type": "code",
   "execution_count": 325,
   "metadata": {
    "collapsed": false
   },
   "outputs": [],
   "source": [
    "# Merge - for joins\n",
    "merged = merge(names, births, on=['year','sex']) # In this case, \n",
    "         # even if you do not specify columns, it will autodetect"
   ]
  },
  {
   "cell_type": "code",
   "execution_count": 327,
   "metadata": {
    "collapsed": false
   },
   "outputs": [
    {
     "data": {
      "text/html": [
       "<div style=\"max-height:1000px;max-width:1500px;overflow:auto;\">\n",
       "<table border=\"1\" class=\"dataframe\">\n",
       "  <thead>\n",
       "    <tr style=\"text-align: right;\">\n",
       "      <th></th>\n",
       "      <th>year</th>\n",
       "      <th>name</th>\n",
       "      <th>prop</th>\n",
       "      <th>sex</th>\n",
       "      <th>soundex</th>\n",
       "      <th>births</th>\n",
       "      <th>persons</th>\n",
       "    </tr>\n",
       "  </thead>\n",
       "  <tbody>\n",
       "    <tr>\n",
       "      <th>0</th>\n",
       "      <td> 1880</td>\n",
       "      <td>    John</td>\n",
       "      <td> 0.081541</td>\n",
       "      <td> boy</td>\n",
       "      <td> J500</td>\n",
       "      <td> 118405</td>\n",
       "      <td> 9654</td>\n",
       "    </tr>\n",
       "    <tr>\n",
       "      <th>1</th>\n",
       "      <td> 1880</td>\n",
       "      <td> William</td>\n",
       "      <td> 0.080511</td>\n",
       "      <td> boy</td>\n",
       "      <td> W450</td>\n",
       "      <td> 118405</td>\n",
       "      <td> 9532</td>\n",
       "    </tr>\n",
       "    <tr>\n",
       "      <th>2</th>\n",
       "      <td> 1880</td>\n",
       "      <td>   James</td>\n",
       "      <td> 0.050057</td>\n",
       "      <td> boy</td>\n",
       "      <td> J520</td>\n",
       "      <td> 118405</td>\n",
       "      <td> 5926</td>\n",
       "    </tr>\n",
       "    <tr>\n",
       "      <th>3</th>\n",
       "      <td> 1880</td>\n",
       "      <td> Charles</td>\n",
       "      <td> 0.045167</td>\n",
       "      <td> boy</td>\n",
       "      <td> C642</td>\n",
       "      <td> 118405</td>\n",
       "      <td> 5347</td>\n",
       "    </tr>\n",
       "    <tr>\n",
       "      <th>4</th>\n",
       "      <td> 1880</td>\n",
       "      <td>  George</td>\n",
       "      <td> 0.043292</td>\n",
       "      <td> boy</td>\n",
       "      <td> G620</td>\n",
       "      <td> 118405</td>\n",
       "      <td> 5125</td>\n",
       "    </tr>\n",
       "  </tbody>\n",
       "</table>\n",
       "</div>"
      ],
      "text/plain": [
       "   year     name      prop  sex soundex  births  persons\n",
       "0  1880     John  0.081541  boy    J500  118405     9654\n",
       "1  1880  William  0.080511  boy    W450  118405     9532\n",
       "2  1880    James  0.050057  boy    J520  118405     5926\n",
       "3  1880  Charles  0.045167  boy    C642  118405     5347\n",
       "4  1880   George  0.043292  boy    G620  118405     5125"
      ]
     },
     "execution_count": 327,
     "metadata": {},
     "output_type": "execute_result"
    }
   ],
   "source": [
    "merged['persons'] = np.floor(merged.prop * merged.births)\n",
    "merged.head()"
   ]
  },
  {
   "cell_type": "code",
   "execution_count": 337,
   "metadata": {
    "collapsed": false
   },
   "outputs": [
    {
     "data": {
      "text/plain": [
       "sex\n",
       "girl    3112\n",
       "Name: persons, dtype: float64"
      ]
     },
     "execution_count": 337,
     "metadata": {},
     "output_type": "execute_result"
    }
   ],
   "source": [
    "# merged.groupby(['name','sex'])['persons'].head()\n",
    "# head command will show the table, but it will not be sorted.\n",
    "# When an aggregate function is applied, each group is processed separately\n",
    "\n",
    "total = merged.groupby(['name','sex'])['persons'].sum()\n",
    "total.ix['Britni']"
   ]
  },
  {
   "cell_type": "code",
   "execution_count": 339,
   "metadata": {
    "collapsed": false
   },
   "outputs": [
    {
     "data": {
      "text/plain": [
       "name      sex \n",
       "Alabama   girl    3\n",
       "Daisye    girl    3\n",
       "Crissie   girl    3\n",
       "Dollye    girl    3\n",
       "Dema      girl    3\n",
       "Chestina  girl    3\n",
       "Ala       girl    3\n",
       "Clem      girl    3\n",
       "...\n",
       "Richard  boy     2535681\n",
       "David    boy     3495940\n",
       "William  boy     3951365\n",
       "Mary     girl    4097626\n",
       "Michael  boy     4207352\n",
       "Robert   boy     4752198\n",
       "John     boy     5016124\n",
       "James    boy     5021269\n",
       "Name: persons, Length: 7455, dtype: float64"
      ]
     },
     "execution_count": 339,
     "metadata": {},
     "output_type": "execute_result"
    }
   ],
   "source": [
    "total.order()"
   ]
  },
  {
   "cell_type": "code",
   "execution_count": 347,
   "metadata": {
    "collapsed": false
   },
   "outputs": [
    {
     "data": {
      "text/plain": [
       "name    sex \n",
       "Abbott  boy     9\n",
       "Abie    boy     4\n",
       "Acey    boy     4\n",
       "Achsah  girl    3\n",
       "Acy     boy     5\n",
       "Adams   boy     7\n",
       "Adina   girl    4\n",
       "Affie   girl    4\n",
       "...\n",
       "Willy   boy     6\n",
       "Wing    boy     4\n",
       "Wood    boy     9\n",
       "Worley  boy     9\n",
       "York    boy     7\n",
       "Zed     boy     6\n",
       "Zenas   boy     6\n",
       "Zilpah  girl    8\n",
       "Name: persons, Length: 438, dtype: float64"
      ]
     },
     "execution_count": 347,
     "metadata": {},
     "output_type": "execute_result"
    }
   ],
   "source": [
    "total[total < 10]"
   ]
  },
  {
   "cell_type": "code",
   "execution_count": 348,
   "metadata": {
    "collapsed": false
   },
   "outputs": [
    {
     "data": {
      "text/plain": [
       "name\n",
       "Achsah     3\n",
       "Adina      4\n",
       "Affie      4\n",
       "Ala        3\n",
       "Alabama    3\n",
       "Alexina    7\n",
       "Alfred     3\n",
       "Allena     9\n",
       "...\n",
       "Tella        4\n",
       "Theodocia    7\n",
       "Thursa       4\n",
       "Tiney        5\n",
       "Tom          6\n",
       "Vicy         6\n",
       "Violetta     7\n",
       "Zilpah       8\n",
       "Name: persons, Length: 162, dtype: float64"
      ]
     },
     "execution_count": 348,
     "metadata": {},
     "output_type": "execute_result"
    }
   ],
   "source": [
    "# Now to only select girls out of these, we need to \n",
    "# select the inner index as girl\n",
    "total[total<10].ix[:,'girl']"
   ]
  }
 ],
 "metadata": {
  "kernelspec": {
   "display_name": "Python 3",
   "language": "python",
   "name": "python3"
  },
  "language_info": {
   "codemirror_mode": {
    "name": "ipython",
    "version": 3
   },
   "file_extension": ".py",
   "mimetype": "text/x-python",
   "name": "python",
   "nbconvert_exporter": "python",
   "pygments_lexer": "ipython3",
   "version": "3.4.3"
  }
 },
 "nbformat": 4,
 "nbformat_minor": 0
}
